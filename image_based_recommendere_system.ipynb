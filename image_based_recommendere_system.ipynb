{
 "cells": [
  {
   "cell_type": "markdown",
   "metadata": {},
   "source": [
    "# Image based recommender system\n",
    "1. https://github.com/AlexWarembourg/Medium/blob/master/product_recommendaitons.ipynb\n",
    "2. https://towardsdatascience.com/building-a-similar-images-finder-without-any-training-f69c0db900b5\n",
    "3. https://www.robertoreif.com/blog/2018/05/14/product-recommendations-using-image-similarity-yy76x"
   ]
  },
  {
   "cell_type": "code",
   "execution_count": 1,
   "metadata": {},
   "outputs": [
    {
     "name": "stderr",
     "output_type": "stream",
     "text": [
      "Using TensorFlow backend.\n"
     ]
    }
   ],
   "source": [
    "from keras.preprocessing.image import load_img,img_to_array\n",
    "from keras.models import Model\n",
    "from keras.applications.imagenet_utils import preprocess_input\n",
    "\n",
    "import os\n",
    "import matplotlib.pyplot as plt\n",
    "import numpy as np\n",
    "from sklearn.metrics.pairwise import cosine_similarity\n",
    "import pandas as pd\n",
    "from keras.applications import vgg16\n",
    "                                "
   ]
  },
  {
   "cell_type": "code",
   "execution_count": 2,
   "metadata": {},
   "outputs": [],
   "source": [
    "import csv\n",
    "csv_path = \"../fashion-product-images-small/styles.csv\""
   ]
  },
  {
   "cell_type": "code",
   "execution_count": 14,
   "metadata": {},
   "outputs": [],
   "source": [
    "# style_df = pd.read_csv(\"../fashion-product-images-small/styles.csv\")\n",
    "# style_df.head()"
   ]
  },
  {
   "cell_type": "code",
   "execution_count": 3,
   "metadata": {},
   "outputs": [],
   "source": [
    "# vgg_model = vgg16.VGG16(weights='imagenet')\n",
    "# vgg_model.summary()\n"
   ]
  },
  {
   "cell_type": "code",
   "execution_count": 15,
   "metadata": {},
   "outputs": [],
   "source": [
    "# now we have vgg model to extract the features of a product image so we can flatten the output and pass it \n",
    "# through cosine similarity"
   ]
  },
  {
   "cell_type": "code",
   "execution_count": 3,
   "metadata": {},
   "outputs": [],
   "source": [
    "# grab the all images\n",
    "files = [x for x in os.listdir(\"../fashion-product-images-small/images\") if x.endswith('jpg')]"
   ]
  },
  {
   "cell_type": "code",
   "execution_count": 4,
   "metadata": {},
   "outputs": [],
   "source": [
    "# get random 2000\n",
    "files = np.random.choice(files, 2000)"
   ]
  },
  {
   "cell_type": "code",
   "execution_count": 5,
   "metadata": {},
   "outputs": [
    {
     "data": {
      "text/plain": [
       "array(['46093.jpg', '14511.jpg', '7133.jpg', ..., '10389.jpg',\n",
       "       '50827.jpg', '43598.jpg'], dtype='<U9')"
      ]
     },
     "execution_count": 5,
     "metadata": {},
     "output_type": "execute_result"
    }
   ],
   "source": [
    "files"
   ]
  },
  {
   "cell_type": "code",
   "execution_count": 23,
   "metadata": {},
   "outputs": [],
   "source": [
    "# class Recommender(object):\n",
    "#     def __init__(self, model, list_of_image, filespath):\n",
    "#         \"\"\"initialize the recommender\"\"\"\n",
    "        \n",
    "#         self.model = model\n",
    "#         self.filespath = filespath\n",
    "#         self.list_of_image = list_of_image\n",
    "#         #since ouput.shape return object dimension just eval it to get integer\n",
    "#         self.image_width = eval(str(self.model.layers[0].output.shape[1]))\n",
    "#         self.image_height = eval(str(self.model.layers[0].output.shape[2]))\n",
    "#         # remove the last layers in order to get features instead of predictions\n",
    "#         self.image_features_extractor = Model(inputs=self.model.input, \n",
    "#                                               outputs=self.model.layers[-2].output)\n",
    "#         self.pic_to_vector = self_pic_to_matrix()\n",
    "#         self.sim_table = self.get_similarity(self.pic_to_vector)\n",
    "    \n",
    "    \n",
    "#     def pic_to_matrix():\n",
    "#         # from vgg "
   ]
  },
  {
   "cell_type": "code",
   "execution_count": 6,
   "metadata": {},
   "outputs": [],
   "source": [
    "class ImageRecommender : \n",
    "    \n",
    "    def __init__(self, model, list_of_image, filespath) : \n",
    "        self.model = model\n",
    "        self.filespath = filespath\n",
    "        self.list_of_image = list_of_image\n",
    "        #since ouput.shape return object dimension just eval it to get integer ...\n",
    "        self.image_width = eval(str(self.model.layers[0].output.shape[1]))\n",
    "        self.image_height = eval(str(self.model.layers[0].output.shape[2]))\n",
    "        # remove the last layers in order to get features instead of predictions\n",
    "        self.image_features_extractor = Model(inputs=self.model.input, \n",
    "                                              outputs=self.model.layers[-2].output)\n",
    "        self.processed_image = self.pics_to_array()\n",
    "        self.sim_table = self.get_similarity(self.processed_image)\n",
    "        \n",
    "    def ddl_images(self, image_url) :\n",
    "        try : \n",
    "            return load_img(self.filespath + image_url, \n",
    "                            target_size=(self.image_width, self.image_height))\n",
    "        except OSError : \n",
    "            # image unreadable // remove from list\n",
    "            self.list_of_image = [x for x in self.list_of_image if x != image_url]\n",
    "            #self.list_of_image.remove(image_url)\n",
    "            pass\n",
    "        \n",
    "    def pics_to_array(self) :\n",
    "        \"\"\"\n",
    "        # convert the PIL image to a numpy array\n",
    "        # in PIL - image is in (width, height, channel)\n",
    "        # in Numpy - image is in (height, width, channel)\n",
    "        # convert the image / images into batch format\n",
    "        # expand_dims will add an extra dimension to the data at a particular axis\n",
    "        # we want the input matrix to the network to be of the form (batchsize, height, width, channels)\n",
    "        # thus we add the extra dimension to the axis 0.\n",
    "        \"\"\"\n",
    "        #from keras.preprocessing.image import load_img,img_to_array\n",
    "        list_of_expanded_array = list()\n",
    "        for i in tqdm(range(len(self.list_of_image) - 1)) :\n",
    "            try :\n",
    "                tmp = img_to_array(self.ddl_images(self.list_of_image[i]))\n",
    "                expand = np.expand_dims(tmp, axis = 0)\n",
    "                list_of_expanded_array.append(expand)\n",
    "            except ValueError : \n",
    "                self.list_of_image = [x for x in self.list_of_image if x != self.list_of_image[i]]\n",
    "                #self.list_of_image.remove(self.list_of_image[i])\n",
    "        images = np.vstack(list_of_expanded_array)\n",
    "        \"\"\"\n",
    "        list_of_expanded_array = [try np.expand_dims(img_to_array(self.ddl_images(self.list_of_image[i])), axis = 0) except ValueError pass \\\n",
    "                                  for i in tqdm(range(len(self.list_of_image)))]\n",
    "        images = np.vstack(list_of_expanded_array)\n",
    "        #from keras.applications.imagenet_utils import preprocess_input()\n",
    "        # prepare the image for the  model\"\n",
    "        \"\"\"\n",
    "        return preprocess_input(images)\n",
    "    \n",
    "    def get_similarity(self, processed_imgs) :\n",
    "        print('============ algorithm predict featurs =========')\n",
    "        imgs_features = self.image_features_extractor.predict(processed_imgs)\n",
    "        print(\"Our image has %i features:\" %imgs_features.size)\n",
    "        cosSimilarities = cosine_similarity(imgs_features)\n",
    "        cos_similarities_df = pd.DataFrame(cosSimilarities, \n",
    "                                           columns=self.list_of_image[:len(self.list_of_image) -1],\n",
    "                                           index=self.list_of_image[:len(self.list_of_image) -1])\n",
    "        return cos_similarities_df\n",
    "    \n",
    "    def most_similar_to(self, given_img, nb_closest_images = 5):\n",
    "\n",
    "        print(\"-----------------------------------------------------------------------\")\n",
    "        print(\"original manga:\")\n",
    "\n",
    "        original = self.ddl_images(given_img)\n",
    "        plt.imshow(original)\n",
    "        plt.show()\n",
    "\n",
    "        print(\"-----------------------------------------------------------------------\")\n",
    "        print(\"most similar manga:\")\n",
    "\n",
    "        closest_imgs = self.sim_table[given_img].sort_values(ascending=False)[1:nb_closest_images+1].index\n",
    "        closest_imgs_scores = self.sim_table[given_img].sort_values(ascending=False)[1:nb_closest_images+1]\n",
    "\n",
    "        for i in range(0,len(closest_imgs)):\n",
    "            original = self.ddl_images(closest_imgs[i])\n",
    "            plt.imshow(original)\n",
    "            plt.show()\n",
    "            print(\"similarity score : \",closest_imgs_scores[i])"
   ]
  },
  {
   "cell_type": "code",
   "execution_count": null,
   "metadata": {},
   "outputs": [
    {
     "name": "stderr",
     "output_type": "stream",
     "text": [
      "  2%|▏         | 36/1999 [00:00<00:05, 355.67it/s]"
     ]
    },
    {
     "name": "stdout",
     "output_type": "stream",
     "text": [
      "Start\n",
      "=========================================\n",
      " /t pretrained model <keras.engine.training.Model object at 0x10d8b36a0> are running\n",
      "=========================================\n"
     ]
    },
    {
     "name": "stderr",
     "output_type": "stream",
     "text": [
      "100%|██████████| 1999/1999 [00:04<00:00, 408.94it/s]\n"
     ]
    },
    {
     "name": "stdout",
     "output_type": "stream",
     "text": [
      "============ algorithm predict featurs =========\n"
     ]
    }
   ],
   "source": [
    "%matplotlib inline \n",
    "from tqdm import tqdm\n",
    "\n",
    "vgg_model = vgg16.VGG16(weights='imagenet')\n",
    "# vgg_model.summary()\n",
    "print(\"Start\")\n",
    "\n",
    "list_of_pretrained = [vgg_model]\n",
    "filespath = \"../fashion-product-images-small/images/\"\n",
    "for pretrained_model in list_of_pretrained : \n",
    "    print('=========================================')\n",
    "    print(' /t pretrained model %s are running' %pretrained_model)\n",
    "    print('=========================================')\n",
    "    pretrained_recommender = ImageRecommender(pretrained_model, files, filespath)\n",
    "   \n",
    "    print('=========================================')\n",
    "    pretrained_recommender.most_similar_to(files[777])\n",
    "    print('=========================================')\n",
    "    pretrained_recommender.most_similar_to(files[23])\n",
    "    print('\\n')\n",
    "    \n",
    "print(\"done\")"
   ]
  },
  {
   "cell_type": "code",
   "execution_count": null,
   "metadata": {},
   "outputs": [],
   "source": []
  }
 ],
 "metadata": {
  "kernelspec": {
   "display_name": "Python 3",
   "language": "python",
   "name": "python3"
  },
  "language_info": {
   "codemirror_mode": {
    "name": "ipython",
    "version": 3
   },
   "file_extension": ".py",
   "mimetype": "text/x-python",
   "name": "python",
   "nbconvert_exporter": "python",
   "pygments_lexer": "ipython3",
   "version": "3.7.2"
  }
 },
 "nbformat": 4,
 "nbformat_minor": 2
}
