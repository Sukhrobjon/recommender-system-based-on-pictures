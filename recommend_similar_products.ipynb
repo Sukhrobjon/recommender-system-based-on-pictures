{
 "cells": [
  {
   "cell_type": "markdown",
   "metadata": {},
   "source": [
    "# Recommender System Based on Product Image\n",
    "---"
   ]
  },
  {
   "cell_type": "markdown",
   "metadata": {},
   "source": [
    "## Description\n",
    "- In this project I developed a method for identifiying the similar products visually. The taks was implementing an algorithm to find k most similar images to given(original) product and display it to user."
   ]
  },
  {
   "cell_type": "markdown",
   "metadata": {},
   "source": [
    "# Data\n",
    "- The main dataset is 2184 color images (150x150x3) with 7 brands and 10 products, and the file with labels style.csv. Photo files are in the .png format and the labels are integers and values. It is downloaded from [kaggle](https://www.kaggle.com/olgabelitskaya/style-color-images). "
   ]
  },
  {
   "cell_type": "markdown",
   "metadata": {},
   "source": [
    "# High Level Overview on the Algorithm\n",
    "---"
   ]
  },
  {
   "cell_type": "markdown",
   "metadata": {},
   "source": [
    "### Step 1 - Feature Extraction\n",
    "- We need to `extract` the images features using CNN model. We dont have to train our model, we can make a use of Transfer Learning. In this project I used VGG16. VGG16 is a (16) convolutional neural network model proposed by K. Simonyan and A. Zisserman from the University of Oxford in the paper “Very Deep Convolutional Networks for Large-Scale Image Recognition”. The model achieves 92.7% top-5 test accuracy in ImageNet, which is a dataset of over 14 million images belonging to 1000 classes. Below you can see the architecture of the VGG16.\n",
    "---"
   ]
  },
  {
   "cell_type": "markdown",
   "metadata": {},
   "source": [
    "![VGG16](https://images.squarespace-cdn.com/content/v1/5a2de417914e6b4aaeea995b/1525872902098-QW6NRHPM5ZLJIM5PSRF2/ke17ZwdGBToddI8pDm48kOoZH-sodpzcMRRauuCS1UkUqsxRUqqbr1mOJYKfIPR7LoDQ9mXPOjoJoqy81S2I8N_N4V1vUb5AoIIIbLZhVYy7Mythp_T-mtop-vrsUOmeInPi9iDjx9w8K4ZfjXt2duvkIE4SzlVg1IA40TSl2Iz7vx7ZI2AaZCvRLajMU_LSpC969RuPXvt2ZwyzUXQf7Q/VGG16-2.jpg?format=1500w)"
   ]
  },
  {
   "cell_type": "markdown",
   "metadata": {},
   "source": [
    "### Step 2 - Calculate the Similarity Score\n",
    "- Once we have the image features, we can calculate the similarity score among all images. I used `cosine_similarity` score from `sklearn metrics package`. Cosine similariry metrics is widely-used when finding a similarty score between two vectors. Once we calculate the cosine similarity score, we can store it in csv file so we can later sort and use the closer score and images.\n",
    "---"
   ]
  },
  {
   "cell_type": "markdown",
   "metadata": {},
   "source": [
    "### Step 3 - Return K most similar items to chosen product.\n",
    "- In this step all we do is sort the cosine similarity score dataframe, and return k most similar products which has higher score(closer to original product).\n",
    "---"
   ]
  },
  {
   "cell_type": "markdown",
   "metadata": {},
   "source": [
    "## 1. Importing Packages and Setup the Parameters\n",
    "---"
   ]
  },
  {
   "cell_type": "code",
   "execution_count": 37,
   "metadata": {},
   "outputs": [],
   "source": [
    "from keras.models import Model\n",
    "from keras.applications import vgg16\n",
    "from keras.preprocessing.image import load_img\n",
    "from keras.preprocessing.image import img_to_array\n",
    "from keras.applications.imagenet_utils import preprocess_input\n",
    "from sklearn.metrics.pairwise import cosine_similarity\n",
    "\n",
    "import os\n",
    "import numpy as np\n",
    "import pandas as pd\n",
    "from PIL import Image\n",
    "# visualize the images\n",
    "import matplotlib.pyplot as plt\n"
   ]
  },
  {
   "cell_type": "markdown",
   "metadata": {},
   "source": [
    "## 2. Explore the data"
   ]
  },
  {
   "cell_type": "code",
   "execution_count": 114,
   "metadata": {},
   "outputs": [],
   "source": [
    "root_dir = \"data/images/\"\n",
    "imgs_model_width, imgs_model_height = 224, 224\n",
    "csv_file = \"data/style.csv\"\n",
    "style_df = pd.read_csv(csv_file)"
   ]
  },
  {
   "cell_type": "code",
   "execution_count": 115,
   "metadata": {
    "scrolled": true
   },
   "outputs": [
    {
     "data": {
      "text/html": [
       "<div>\n",
       "<style scoped>\n",
       "    .dataframe tbody tr th:only-of-type {\n",
       "        vertical-align: middle;\n",
       "    }\n",
       "\n",
       "    .dataframe tbody tr th {\n",
       "        vertical-align: top;\n",
       "    }\n",
       "\n",
       "    .dataframe thead th {\n",
       "        text-align: right;\n",
       "    }\n",
       "</style>\n",
       "<table border=\"1\" class=\"dataframe\">\n",
       "  <thead>\n",
       "    <tr style=\"text-align: right;\">\n",
       "      <th></th>\n",
       "      <th>brand_name</th>\n",
       "      <th>brand_label</th>\n",
       "      <th>product_name</th>\n",
       "      <th>product_label</th>\n",
       "      <th>file</th>\n",
       "    </tr>\n",
       "  </thead>\n",
       "  <tbody>\n",
       "    <tr>\n",
       "      <th>0</th>\n",
       "      <td>Christian Louboutin</td>\n",
       "      <td>0</td>\n",
       "      <td>shoes</td>\n",
       "      <td>0</td>\n",
       "      <td>0_0_001.png</td>\n",
       "    </tr>\n",
       "    <tr>\n",
       "      <th>1</th>\n",
       "      <td>Christian Louboutin</td>\n",
       "      <td>0</td>\n",
       "      <td>shoes</td>\n",
       "      <td>0</td>\n",
       "      <td>0_0_002.png</td>\n",
       "    </tr>\n",
       "    <tr>\n",
       "      <th>2</th>\n",
       "      <td>Christian Louboutin</td>\n",
       "      <td>0</td>\n",
       "      <td>shoes</td>\n",
       "      <td>0</td>\n",
       "      <td>0_0_003.png</td>\n",
       "    </tr>\n",
       "    <tr>\n",
       "      <th>3</th>\n",
       "      <td>Christian Louboutin</td>\n",
       "      <td>0</td>\n",
       "      <td>shoes</td>\n",
       "      <td>0</td>\n",
       "      <td>0_0_004.png</td>\n",
       "    </tr>\n",
       "    <tr>\n",
       "      <th>4</th>\n",
       "      <td>Christian Louboutin</td>\n",
       "      <td>0</td>\n",
       "      <td>shoes</td>\n",
       "      <td>0</td>\n",
       "      <td>0_0_005.png</td>\n",
       "    </tr>\n",
       "  </tbody>\n",
       "</table>\n",
       "</div>"
      ],
      "text/plain": [
       "            brand_name  brand_label product_name  product_label         file\n",
       "0  Christian Louboutin            0        shoes              0  0_0_001.png\n",
       "1  Christian Louboutin            0        shoes              0  0_0_002.png\n",
       "2  Christian Louboutin            0        shoes              0  0_0_003.png\n",
       "3  Christian Louboutin            0        shoes              0  0_0_004.png\n",
       "4  Christian Louboutin            0        shoes              0  0_0_005.png"
      ]
     },
     "execution_count": 115,
     "metadata": {},
     "output_type": "execute_result"
    }
   ],
   "source": [
    "style_df.head()"
   ]
  },
  {
   "cell_type": "markdown",
   "metadata": {},
   "source": [
    "##### Observation:\n",
    "- So we can see that we know the product name but not the specific type. For example shoes, but what kind of shoes sandals, or sneakers."
   ]
  },
  {
   "cell_type": "code",
   "execution_count": 126,
   "metadata": {
    "scrolled": true
   },
   "outputs": [],
   "source": [
    "def display_number_unique_products(unique_products):\n",
    "    \"\"\"Displays unique products from the dataset\"\"\"\n",
    "    \n",
    "    print(\"There is {} number of unique products.\".format(len(unique_products)))\n",
    "    for index, product in enumerate(unique_products):\n",
    "        print(index+1, product)"
   ]
  },
  {
   "cell_type": "code",
   "execution_count": 127,
   "metadata": {},
   "outputs": [
    {
     "name": "stdout",
     "output_type": "stream",
     "text": [
      "There is 10 number of unique products.\n",
      "1 shoes\n",
      "2 lipstick\n",
      "3 handbag\n",
      "4 nail polish\n",
      "5 boots\n",
      "6 necklace\n",
      "7 watches\n",
      "8 ring\n",
      "9 bracelet\n",
      "10 earrings\n"
     ]
    }
   ],
   "source": [
    "# how many unique product names:\n",
    "unique_products = style_df[\"product_name\"].unique()\n",
    "display_number_unique_products(unique_products)"
   ]
  },
  {
   "cell_type": "code",
   "execution_count": 148,
   "metadata": {},
   "outputs": [],
   "source": [
    "def get_product_name(df, image_id):\n",
    "    \"\"\"\n",
    "        Get the product name to display.\n",
    "        \n",
    "        Args:\n",
    "            df(panda DataFrame): Dataframe of the dataset\n",
    "            image_id(str): filename of the image\n",
    "        \n",
    "        Returns:\n",
    "            product_name(str): type of the given image\n",
    "    \"\"\"\n",
    "    # finds the items from file column and returs the coresponding value from product name column\n",
    "    product_name = df[df['file'] == image_id]['product_name'].iloc[0]\n",
    "    return product_name"
   ]
  },
  {
   "cell_type": "code",
   "execution_count": 149,
   "metadata": {},
   "outputs": [
    {
     "name": "stdout",
     "output_type": "stream",
     "text": [
      "shoes\n"
     ]
    }
   ],
   "source": [
    "print(get_product_name(style_df, all_image_ids[0]))"
   ]
  },
  {
   "cell_type": "markdown",
   "metadata": {},
   "source": [
    "## 3. Display samples from dataset\n",
    "---"
   ]
  },
  {
   "cell_type": "markdown",
   "metadata": {},
   "source": [
    "## 4. Initilize he Model \n",
    "- Initilize the model \n",
    "- Remove the last year, because we only need the features not the prediction"
   ]
  },
  {
   "cell_type": "code",
   "execution_count": 90,
   "metadata": {},
   "outputs": [
    {
     "name": "stdout",
     "output_type": "stream",
     "text": [
      "Model: \"model_5\"\n",
      "_________________________________________________________________\n",
      "Layer (type)                 Output Shape              Param #   \n",
      "=================================================================\n",
      "input_19 (InputLayer)        (None, 224, 224, 3)       0         \n",
      "_________________________________________________________________\n",
      "block1_conv1 (Conv2D)        (None, 224, 224, 64)      1792      \n",
      "_________________________________________________________________\n",
      "block1_conv2 (Conv2D)        (None, 224, 224, 64)      36928     \n",
      "_________________________________________________________________\n",
      "block1_pool (MaxPooling2D)   (None, 112, 112, 64)      0         \n",
      "_________________________________________________________________\n",
      "block2_conv1 (Conv2D)        (None, 112, 112, 128)     73856     \n",
      "_________________________________________________________________\n",
      "block2_conv2 (Conv2D)        (None, 112, 112, 128)     147584    \n",
      "_________________________________________________________________\n",
      "block2_pool (MaxPooling2D)   (None, 56, 56, 128)       0         \n",
      "_________________________________________________________________\n",
      "block3_conv1 (Conv2D)        (None, 56, 56, 256)       295168    \n",
      "_________________________________________________________________\n",
      "block3_conv2 (Conv2D)        (None, 56, 56, 256)       590080    \n",
      "_________________________________________________________________\n",
      "block3_conv3 (Conv2D)        (None, 56, 56, 256)       590080    \n",
      "_________________________________________________________________\n",
      "block3_pool (MaxPooling2D)   (None, 28, 28, 256)       0         \n",
      "_________________________________________________________________\n",
      "block4_conv1 (Conv2D)        (None, 28, 28, 512)       1180160   \n",
      "_________________________________________________________________\n",
      "block4_conv2 (Conv2D)        (None, 28, 28, 512)       2359808   \n",
      "_________________________________________________________________\n",
      "block4_conv3 (Conv2D)        (None, 28, 28, 512)       2359808   \n",
      "_________________________________________________________________\n",
      "block4_pool (MaxPooling2D)   (None, 14, 14, 512)       0         \n",
      "_________________________________________________________________\n",
      "block5_conv1 (Conv2D)        (None, 14, 14, 512)       2359808   \n",
      "_________________________________________________________________\n",
      "block5_conv2 (Conv2D)        (None, 14, 14, 512)       2359808   \n",
      "_________________________________________________________________\n",
      "block5_conv3 (Conv2D)        (None, 14, 14, 512)       2359808   \n",
      "_________________________________________________________________\n",
      "block5_pool (MaxPooling2D)   (None, 7, 7, 512)         0         \n",
      "_________________________________________________________________\n",
      "flatten (Flatten)            (None, 25088)             0         \n",
      "_________________________________________________________________\n",
      "fc1 (Dense)                  (None, 4096)              102764544 \n",
      "_________________________________________________________________\n",
      "fc2 (Dense)                  (None, 4096)              16781312  \n",
      "=================================================================\n",
      "Total params: 134,260,544\n",
      "Trainable params: 134,260,544\n",
      "Non-trainable params: 0\n",
      "_________________________________________________________________\n"
     ]
    }
   ],
   "source": [
    "# initialize\n",
    "vgg_model = vgg16.VGG16(weights='imagenet')\n",
    "\n",
    "# ignore the last layer\n",
    "feature_extractor = Model(inputs=vgg_model.input, outputs=vgg_model.get_layer(\"fc2\").output)\n",
    "\n",
    "# layers of model\n",
    "feature_extractor.summary()"
   ]
  },
  {
   "cell_type": "markdown",
   "metadata": {},
   "source": [
    "## 5. Read all image ids and store them in the list"
   ]
  },
  {
   "cell_type": "code",
   "execution_count": 50,
   "metadata": {},
   "outputs": [],
   "source": [
    "def get_all_image_ids(filepath):\n",
    "    \"\"\"\n",
    "    Get all image file names from dataset.\n",
    "    \n",
    "    Args:\n",
    "        filepath(str): Root file path to images\n",
    "        \n",
    "    Returns:\n",
    "        image_ids(list): list of all image ids\n",
    "    \"\"\"\n",
    "    image_ids = []\n",
    "    # read from directory\n",
    "    for img in os.listdir(filepath):\n",
    "        # append all files end with png\n",
    "        if img.endswith('png'):\n",
    "            image_ids.append(img)\n",
    "    \n",
    "    return image_ids\n"
   ]
  },
  {
   "cell_type": "code",
   "execution_count": 94,
   "metadata": {},
   "outputs": [
    {
     "name": "stdout",
     "output_type": "stream",
     "text": [
      "Number of images: 2184\n",
      "6_0_003.png\n"
     ]
    }
   ],
   "source": [
    "all_image_ids = get_all_image_ids(root_dir)\n",
    "print(\"Number of images:\",len(all_image_ids))\n",
    "print(all_image_ids[0])"
   ]
  },
  {
   "cell_type": "markdown",
   "metadata": {},
   "source": [
    "## 6. Display an image\n",
    "- We have seen some sample from the dataset, lets look at single product image."
   ]
  },
  {
   "cell_type": "code",
   "execution_count": 112,
   "metadata": {},
   "outputs": [],
   "source": [
    "def display_image(filepath, image_id):\n",
    "    \"\"\"\n",
    "        Displays an image from dataset, using plt library\n",
    "        \n",
    "        Args:\n",
    "            filepath(str): file path to dataset\n",
    "            image_id(str): filename of the specific image, the format looks like -> 6_0_003.png\n",
    "    \"\"\"\n",
    "    \"\"\"Displays the given image id from folder\"\"\"\n",
    "    filename = filepath + image_id\n",
    "    original = load_img(filename, target_size=(imgs_model_width, imgs_model_height))\n",
    "    plt.imshow(original)\n",
    "#     image_title = \n",
    "    plt.title(image_id[:-4])\n",
    "    plt.show()\n",
    "   \n",
    "    # TODO: display item label\n",
    "    print(\"image loaded successfully!\")"
   ]
  },
  {
   "cell_type": "code",
   "execution_count": 113,
   "metadata": {},
   "outputs": [
    {
     "data": {
      "image/png": "[encoded data removed]",
      "text/plain": [
       "<Figure size 432x288 with 1 Axes>"
      ]
     },
     "metadata": {
      "needs_background": "light"
     },
     "output_type": "display_data"
    },
    {
     "name": "stdout",
     "output_type": "stream",
     "text": [
      "image loaded successfully!\n"
     ]
    }
   ],
   "source": [
    "image_id = 33\n",
    "display_image(root_dir, all_image_ids[image_id])"
   ]
  },
  {
   "cell_type": "markdown",
   "metadata": {},
   "source": [
    "## 7. Extracting Image Features:\n",
    "1. Preprocessing the image for vgg\n",
    "1. Extract the image feature using vgg"
   ]
  },
  {
   "cell_type": "code",
   "execution_count": 55,
   "metadata": {},
   "outputs": [
    {
     "name": "stdout",
     "output_type": "stream",
     "text": [
      "image batch size (1, 224, 224, 3)\n"
     ]
    }
   ],
   "source": [
    "# convert an image to numpy array\n",
    "numpy_image = img_to_array(original)\n",
    "\n",
    "# convert the image / images into batch format\n",
    "# expand_dims will add an extra dimension to the data at a particular axis\n",
    "# we want the input matrix to the network to be of the form (batchsize, height, width, channels)\n",
    "# thus we add the extra dimension to the axis 0.\n",
    "image_batch = np.expand_dims(numpy_image, axis=0)\n",
    "print('image batch size', image_batch.shape)\n",
    "\n",
    "# prepare the image for the VGG model\n",
    "processed_image = preprocess_input(image_batch.copy())"
   ]
  },
  {
   "cell_type": "code",
   "execution_count": 56,
   "metadata": {},
   "outputs": [
    {
     "name": "stdout",
     "output_type": "stream",
     "text": [
      "features successfully extracted!\n",
      "number of image features: 4096\n"
     ]
    },
    {
     "data": {
      "text/plain": [
       "array([[0.        , 0.        , 0.        , ..., 0.16508457, 0.        ,\n",
       "        0.774067  ]], dtype=float32)"
      ]
     },
     "execution_count": 56,
     "metadata": {},
     "output_type": "execute_result"
    }
   ],
   "source": [
    "# get the extracted features\n",
    "img_features = feature_extractor.predict(processed_image)\n",
    "\n",
    "print(\"features successfully extracted!\")\n",
    "print(\"number of image features:\",img_features.size)\n",
    "img_features"
   ]
  },
  {
   "cell_type": "markdown",
   "metadata": {},
   "source": [
    "### 7.1 Now We can extract image feature for all images."
   ]
  },
  {
   "cell_type": "code",
   "execution_count": 60,
   "metadata": {},
   "outputs": [],
   "source": [
    "def process_image_for_feature_extraction(filepath, all_image_ids):\n",
    "    \"\"\"\n",
    "        Takes an image and returns 4D array of features from vgg16 model\n",
    "\n",
    "        Args:\n",
    "            image_path: path to image\n",
    "        \n",
    "        Returns:\n",
    "            processed_imgs(list): list of procesed numpy array ready to pass to VGG\n",
    "    \"\"\"\n",
    "\n",
    "    # load all the images and prepare them for feeding into the CNN\n",
    "\n",
    "    imported_images = []\n",
    "\n",
    "    for image_id in all_image_ids:\n",
    "        filename = filepath + image_id\n",
    "        original = load_img(filename, target_size=(imgs_model_width, imgs_model_height))\n",
    "        numpy_image = img_to_array(original)\n",
    "        image_batch = np.expand_dims(numpy_image, axis=0)\n",
    "\n",
    "        imported_images.append(image_batch)\n",
    "    \n",
    "    # stack up the vertically\n",
    "    images = np.vstack(imported_images)\n",
    "\n",
    "    processed_imgs = preprocess_input(images.copy())\n",
    "    \n",
    "    return processed_imgs\n"
   ]
  },
  {
   "cell_type": "code",
   "execution_count": 61,
   "metadata": {},
   "outputs": [],
   "source": [
    "# extract the images features\n",
    "processed_imgs = process_image_for_feature_extraction(root_dir, all_image_ids)\n"
   ]
  },
  {
   "cell_type": "code",
   "execution_count": 62,
   "metadata": {},
   "outputs": [
    {
     "name": "stdout",
     "output_type": "stream",
     "text": [
      "features successfully extracted!\n"
     ]
    },
    {
     "data": {
      "text/plain": [
       "(2184, 4096)"
      ]
     },
     "execution_count": 62,
     "metadata": {},
     "output_type": "execute_result"
    }
   ],
   "source": [
    "all_image_features = feature_extractor.predict(processed_imgs)\n",
    "\n",
    "print(\"Extracted the features!\")\n",
    "all_image_features.shape"
   ]
  },
  {
   "cell_type": "markdown",
   "metadata": {},
   "source": [
    "## 8. Compute cosine similarities between images"
   ]
  },
  {
   "cell_type": "code",
   "execution_count": 64,
   "metadata": {},
   "outputs": [],
   "source": [
    "def create_cosine_similarity_table(image_features, image_ids):\n",
    "    # print(len(all_image_ids))\n",
    "    cos_sims = cosine_similarity(image_features)\n",
    "\n",
    "    # store the results into a pandas dataframe\n",
    "\n",
    "    cos_sims_df = pd.DataFrame(cos_sims, columns=image_ids, index=image_ids)\n",
    "    # store it in csv file\n",
    "    # if you are running this code first time comment this off, it will create a csv file with all the cos similarity\n",
    "    # cos_sims_df.to_csv('cos_sim_table_2154_images.csv', sep='\\t', encoding='utf-8')\n",
    "    \n",
    "    return cos_sims_df\n",
    "    "
   ]
  },
  {
   "cell_type": "code",
   "execution_count": 67,
   "metadata": {
    "scrolled": true
   },
   "outputs": [],
   "source": [
    "cos_sim_df = create_cosine_similarity_table(all_image_features, all_image_ids)"
   ]
  },
  {
   "cell_type": "code",
   "execution_count": 150,
   "metadata": {},
   "outputs": [
    {
     "data": {
      "text/html": [
       "<div>\n",
       "<style scoped>\n",
       "    .dataframe tbody tr th:only-of-type {\n",
       "        vertical-align: middle;\n",
       "    }\n",
       "\n",
       "    .dataframe tbody tr th {\n",
       "        vertical-align: top;\n",
       "    }\n",
       "\n",
       "    .dataframe thead th {\n",
       "        text-align: right;\n",
       "    }\n",
       "</style>\n",
       "<table border=\"1\" class=\"dataframe\">\n",
       "  <thead>\n",
       "    <tr style=\"text-align: right;\">\n",
       "      <th></th>\n",
       "      <th>6_0_003.png</th>\n",
       "      <th>1_6_022.png</th>\n",
       "      <th>6_0_017.png</th>\n",
       "      <th>4_3_008.png</th>\n",
       "      <th>3_5_015.png</th>\n",
       "      <th>4_3_020.png</th>\n",
       "      <th>3_5_001.png</th>\n",
       "      <th>5_0_037.png</th>\n",
       "      <th>6_1_012.png</th>\n",
       "      <th>2_6_002.png</th>\n",
       "      <th>...</th>\n",
       "      <th>3_5_024.png</th>\n",
       "      <th>3_8_013.png</th>\n",
       "      <th>4_3_011.png</th>\n",
       "      <th>3_8_007.png</th>\n",
       "      <th>4_3_005.png</th>\n",
       "      <th>6_0_032.png</th>\n",
       "      <th>1_6_007.png</th>\n",
       "      <th>1_6_013.png</th>\n",
       "      <th>6_0_026.png</th>\n",
       "      <th>4_5_040.png</th>\n",
       "    </tr>\n",
       "  </thead>\n",
       "  <tbody>\n",
       "    <tr>\n",
       "      <th>6_0_003.png</th>\n",
       "      <td>1.000000</td>\n",
       "      <td>0.299125</td>\n",
       "      <td>0.518684</td>\n",
       "      <td>0.174802</td>\n",
       "      <td>0.333239</td>\n",
       "      <td>0.266725</td>\n",
       "      <td>0.392272</td>\n",
       "      <td>0.376877</td>\n",
       "      <td>0.252635</td>\n",
       "      <td>0.193925</td>\n",
       "      <td>...</td>\n",
       "      <td>0.240589</td>\n",
       "      <td>0.494327</td>\n",
       "      <td>0.187345</td>\n",
       "      <td>0.471302</td>\n",
       "      <td>0.154504</td>\n",
       "      <td>0.498736</td>\n",
       "      <td>0.266930</td>\n",
       "      <td>0.261526</td>\n",
       "      <td>0.423063</td>\n",
       "      <td>0.157303</td>\n",
       "    </tr>\n",
       "    <tr>\n",
       "      <th>1_6_022.png</th>\n",
       "      <td>0.299125</td>\n",
       "      <td>1.000000</td>\n",
       "      <td>0.293150</td>\n",
       "      <td>0.253284</td>\n",
       "      <td>0.450366</td>\n",
       "      <td>0.425364</td>\n",
       "      <td>0.471757</td>\n",
       "      <td>0.271566</td>\n",
       "      <td>0.199947</td>\n",
       "      <td>0.318290</td>\n",
       "      <td>...</td>\n",
       "      <td>0.364141</td>\n",
       "      <td>0.252816</td>\n",
       "      <td>0.290965</td>\n",
       "      <td>0.325775</td>\n",
       "      <td>0.187361</td>\n",
       "      <td>0.255963</td>\n",
       "      <td>0.499326</td>\n",
       "      <td>0.384587</td>\n",
       "      <td>0.316344</td>\n",
       "      <td>0.236377</td>\n",
       "    </tr>\n",
       "    <tr>\n",
       "      <th>6_0_017.png</th>\n",
       "      <td>0.518684</td>\n",
       "      <td>0.293150</td>\n",
       "      <td>1.000000</td>\n",
       "      <td>0.274508</td>\n",
       "      <td>0.281128</td>\n",
       "      <td>0.250835</td>\n",
       "      <td>0.292203</td>\n",
       "      <td>0.453911</td>\n",
       "      <td>0.198865</td>\n",
       "      <td>0.188447</td>\n",
       "      <td>...</td>\n",
       "      <td>0.214745</td>\n",
       "      <td>0.430328</td>\n",
       "      <td>0.212879</td>\n",
       "      <td>0.417788</td>\n",
       "      <td>0.197296</td>\n",
       "      <td>0.562664</td>\n",
       "      <td>0.337275</td>\n",
       "      <td>0.269246</td>\n",
       "      <td>0.364765</td>\n",
       "      <td>0.175194</td>\n",
       "    </tr>\n",
       "    <tr>\n",
       "      <th>4_3_008.png</th>\n",
       "      <td>0.174802</td>\n",
       "      <td>0.253284</td>\n",
       "      <td>0.274508</td>\n",
       "      <td>1.000000</td>\n",
       "      <td>0.304643</td>\n",
       "      <td>0.436987</td>\n",
       "      <td>0.257100</td>\n",
       "      <td>0.216678</td>\n",
       "      <td>0.258096</td>\n",
       "      <td>0.174308</td>\n",
       "      <td>...</td>\n",
       "      <td>0.219258</td>\n",
       "      <td>0.243954</td>\n",
       "      <td>0.253297</td>\n",
       "      <td>0.261905</td>\n",
       "      <td>0.735227</td>\n",
       "      <td>0.200664</td>\n",
       "      <td>0.277295</td>\n",
       "      <td>0.277701</td>\n",
       "      <td>0.380281</td>\n",
       "      <td>0.169136</td>\n",
       "    </tr>\n",
       "    <tr>\n",
       "      <th>3_5_015.png</th>\n",
       "      <td>0.333239</td>\n",
       "      <td>0.450366</td>\n",
       "      <td>0.281128</td>\n",
       "      <td>0.304643</td>\n",
       "      <td>1.000000</td>\n",
       "      <td>0.524763</td>\n",
       "      <td>0.602443</td>\n",
       "      <td>0.282384</td>\n",
       "      <td>0.436038</td>\n",
       "      <td>0.255400</td>\n",
       "      <td>...</td>\n",
       "      <td>0.364642</td>\n",
       "      <td>0.328726</td>\n",
       "      <td>0.383658</td>\n",
       "      <td>0.337313</td>\n",
       "      <td>0.291866</td>\n",
       "      <td>0.309710</td>\n",
       "      <td>0.366534</td>\n",
       "      <td>0.369775</td>\n",
       "      <td>0.342702</td>\n",
       "      <td>0.388611</td>\n",
       "    </tr>\n",
       "    <tr>\n",
       "      <th>4_3_020.png</th>\n",
       "      <td>0.266725</td>\n",
       "      <td>0.425364</td>\n",
       "      <td>0.250835</td>\n",
       "      <td>0.436987</td>\n",
       "      <td>0.524763</td>\n",
       "      <td>1.000000</td>\n",
       "      <td>0.309033</td>\n",
       "      <td>0.300580</td>\n",
       "      <td>0.388621</td>\n",
       "      <td>0.234951</td>\n",
       "      <td>...</td>\n",
       "      <td>0.310858</td>\n",
       "      <td>0.222687</td>\n",
       "      <td>0.377547</td>\n",
       "      <td>0.351808</td>\n",
       "      <td>0.307429</td>\n",
       "      <td>0.287178</td>\n",
       "      <td>0.390341</td>\n",
       "      <td>0.290160</td>\n",
       "      <td>0.358314</td>\n",
       "      <td>0.208980</td>\n",
       "    </tr>\n",
       "    <tr>\n",
       "      <th>3_5_001.png</th>\n",
       "      <td>0.392272</td>\n",
       "      <td>0.471757</td>\n",
       "      <td>0.292203</td>\n",
       "      <td>0.257100</td>\n",
       "      <td>0.602443</td>\n",
       "      <td>0.309033</td>\n",
       "      <td>1.000000</td>\n",
       "      <td>0.324588</td>\n",
       "      <td>0.323704</td>\n",
       "      <td>0.224871</td>\n",
       "      <td>...</td>\n",
       "      <td>0.393991</td>\n",
       "      <td>0.355931</td>\n",
       "      <td>0.284988</td>\n",
       "      <td>0.423896</td>\n",
       "      <td>0.252270</td>\n",
       "      <td>0.345956</td>\n",
       "      <td>0.404511</td>\n",
       "      <td>0.395048</td>\n",
       "      <td>0.363942</td>\n",
       "      <td>0.413742</td>\n",
       "    </tr>\n",
       "    <tr>\n",
       "      <th>5_0_037.png</th>\n",
       "      <td>0.376877</td>\n",
       "      <td>0.271566</td>\n",
       "      <td>0.453911</td>\n",
       "      <td>0.216678</td>\n",
       "      <td>0.282384</td>\n",
       "      <td>0.300580</td>\n",
       "      <td>0.324588</td>\n",
       "      <td>1.000000</td>\n",
       "      <td>0.252033</td>\n",
       "      <td>0.229261</td>\n",
       "      <td>...</td>\n",
       "      <td>0.181397</td>\n",
       "      <td>0.287082</td>\n",
       "      <td>0.192636</td>\n",
       "      <td>0.324839</td>\n",
       "      <td>0.205137</td>\n",
       "      <td>0.372011</td>\n",
       "      <td>0.381613</td>\n",
       "      <td>0.215555</td>\n",
       "      <td>0.341537</td>\n",
       "      <td>0.148838</td>\n",
       "    </tr>\n",
       "    <tr>\n",
       "      <th>6_1_012.png</th>\n",
       "      <td>0.252635</td>\n",
       "      <td>0.199947</td>\n",
       "      <td>0.198865</td>\n",
       "      <td>0.258096</td>\n",
       "      <td>0.436038</td>\n",
       "      <td>0.388621</td>\n",
       "      <td>0.323704</td>\n",
       "      <td>0.252033</td>\n",
       "      <td>1.000000</td>\n",
       "      <td>0.161363</td>\n",
       "      <td>...</td>\n",
       "      <td>0.201179</td>\n",
       "      <td>0.212020</td>\n",
       "      <td>0.326088</td>\n",
       "      <td>0.201862</td>\n",
       "      <td>0.218097</td>\n",
       "      <td>0.229935</td>\n",
       "      <td>0.268687</td>\n",
       "      <td>0.184451</td>\n",
       "      <td>0.302330</td>\n",
       "      <td>0.260285</td>\n",
       "    </tr>\n",
       "    <tr>\n",
       "      <th>2_6_002.png</th>\n",
       "      <td>0.193925</td>\n",
       "      <td>0.318290</td>\n",
       "      <td>0.188447</td>\n",
       "      <td>0.174308</td>\n",
       "      <td>0.255400</td>\n",
       "      <td>0.234951</td>\n",
       "      <td>0.224871</td>\n",
       "      <td>0.229261</td>\n",
       "      <td>0.161363</td>\n",
       "      <td>1.000000</td>\n",
       "      <td>...</td>\n",
       "      <td>0.127768</td>\n",
       "      <td>0.258739</td>\n",
       "      <td>0.222262</td>\n",
       "      <td>0.212886</td>\n",
       "      <td>0.182119</td>\n",
       "      <td>0.201444</td>\n",
       "      <td>0.259161</td>\n",
       "      <td>0.138902</td>\n",
       "      <td>0.190213</td>\n",
       "      <td>0.134110</td>\n",
       "    </tr>\n",
       "  </tbody>\n",
       "</table>\n",
       "<p>10 rows × 2184 columns</p>\n",
       "</div>"
      ],
      "text/plain": [
       "             6_0_003.png  1_6_022.png  6_0_017.png  4_3_008.png  3_5_015.png  \\\n",
       "6_0_003.png     1.000000     0.299125     0.518684     0.174802     0.333239   \n",
       "1_6_022.png     0.299125     1.000000     0.293150     0.253284     0.450366   \n",
       "6_0_017.png     0.518684     0.293150     1.000000     0.274508     0.281128   \n",
       "4_3_008.png     0.174802     0.253284     0.274508     1.000000     0.304643   \n",
       "3_5_015.png     0.333239     0.450366     0.281128     0.304643     1.000000   \n",
       "4_3_020.png     0.266725     0.425364     0.250835     0.436987     0.524763   \n",
       "3_5_001.png     0.392272     0.471757     0.292203     0.257100     0.602443   \n",
       "5_0_037.png     0.376877     0.271566     0.453911     0.216678     0.282384   \n",
       "6_1_012.png     0.252635     0.199947     0.198865     0.258096     0.436038   \n",
       "2_6_002.png     0.193925     0.318290     0.188447     0.174308     0.255400   \n",
       "\n",
       "             4_3_020.png  3_5_001.png  5_0_037.png  6_1_012.png  2_6_002.png  \\\n",
       "6_0_003.png     0.266725     0.392272     0.376877     0.252635     0.193925   \n",
       "1_6_022.png     0.425364     0.471757     0.271566     0.199947     0.318290   \n",
       "6_0_017.png     0.250835     0.292203     0.453911     0.198865     0.188447   \n",
       "4_3_008.png     0.436987     0.257100     0.216678     0.258096     0.174308   \n",
       "3_5_015.png     0.524763     0.602443     0.282384     0.436038     0.255400   \n",
       "4_3_020.png     1.000000     0.309033     0.300580     0.388621     0.234951   \n",
       "3_5_001.png     0.309033     1.000000     0.324588     0.323704     0.224871   \n",
       "5_0_037.png     0.300580     0.324588     1.000000     0.252033     0.229261   \n",
       "6_1_012.png     0.388621     0.323704     0.252033     1.000000     0.161363   \n",
       "2_6_002.png     0.234951     0.224871     0.229261     0.161363     1.000000   \n",
       "\n",
       "             ...  3_5_024.png  3_8_013.png  4_3_011.png  3_8_007.png  \\\n",
       "6_0_003.png  ...     0.240589     0.494327     0.187345     0.471302   \n",
       "1_6_022.png  ...     0.364141     0.252816     0.290965     0.325775   \n",
       "6_0_017.png  ...     0.214745     0.430328     0.212879     0.417788   \n",
       "4_3_008.png  ...     0.219258     0.243954     0.253297     0.261905   \n",
       "3_5_015.png  ...     0.364642     0.328726     0.383658     0.337313   \n",
       "4_3_020.png  ...     0.310858     0.222687     0.377547     0.351808   \n",
       "3_5_001.png  ...     0.393991     0.355931     0.284988     0.423896   \n",
       "5_0_037.png  ...     0.181397     0.287082     0.192636     0.324839   \n",
       "6_1_012.png  ...     0.201179     0.212020     0.326088     0.201862   \n",
       "2_6_002.png  ...     0.127768     0.258739     0.222262     0.212886   \n",
       "\n",
       "             4_3_005.png  6_0_032.png  1_6_007.png  1_6_013.png  6_0_026.png  \\\n",
       "6_0_003.png     0.154504     0.498736     0.266930     0.261526     0.423063   \n",
       "1_6_022.png     0.187361     0.255963     0.499326     0.384587     0.316344   \n",
       "6_0_017.png     0.197296     0.562664     0.337275     0.269246     0.364765   \n",
       "4_3_008.png     0.735227     0.200664     0.277295     0.277701     0.380281   \n",
       "3_5_015.png     0.291866     0.309710     0.366534     0.369775     0.342702   \n",
       "4_3_020.png     0.307429     0.287178     0.390341     0.290160     0.358314   \n",
       "3_5_001.png     0.252270     0.345956     0.404511     0.395048     0.363942   \n",
       "5_0_037.png     0.205137     0.372011     0.381613     0.215555     0.341537   \n",
       "6_1_012.png     0.218097     0.229935     0.268687     0.184451     0.302330   \n",
       "2_6_002.png     0.182119     0.201444     0.259161     0.138902     0.190213   \n",
       "\n",
       "             4_5_040.png  \n",
       "6_0_003.png     0.157303  \n",
       "1_6_022.png     0.236377  \n",
       "6_0_017.png     0.175194  \n",
       "4_3_008.png     0.169136  \n",
       "3_5_015.png     0.388611  \n",
       "4_3_020.png     0.208980  \n",
       "3_5_001.png     0.413742  \n",
       "5_0_037.png     0.148838  \n",
       "6_1_012.png     0.260285  \n",
       "2_6_002.png     0.134110  \n",
       "\n",
       "[10 rows x 2184 columns]"
      ]
     },
     "execution_count": 150,
     "metadata": {},
     "output_type": "execute_result"
    }
   ],
   "source": [
    "cos_sim_df.head(10)"
   ]
  },
  {
   "cell_type": "markdown",
   "metadata": {},
   "source": [
    "## Recommend k most similar products:\n",
    "- We sort the scores by descending order and return k most closest score to original item."
   ]
  },
  {
   "cell_type": "code",
   "execution_count": 190,
   "metadata": {},
   "outputs": [],
   "source": [
    "def get_k_most_similar_images(df, filepath, image_id, k_similar=3):\n",
    "    \n",
    "    print(\"====================== Original Product =================================\")\n",
    "    filename = filepath + image_id\n",
    "    original = load_img(filename, target_size=(imgs_model_width, imgs_model_height))\n",
    "    plt.imshow(original)\n",
    "    plt.show()\n",
    "    # get most k similar images\n",
    "    k_similar_images = df[image_id].sort_values(ascending=False)[1:k_similar+1].index\n",
    "    # get most k similar image scores\n",
    "    k_similar_image_scores = df[image_id].sort_values(ascending=False)[1:k_similar+1]\n",
    "    \n",
    "    \n",
    "    for i in range(0,len(k_similar_images)):\n",
    "        print(\"======================Recommended Item {}=================================\".format(i+1))\n",
    "        score = k_similar_image_scores[i]\n",
    "        item_i = k_similar_images[i]\n",
    "        filename = filepath + k_similar_images[i]\n",
    "        similar = load_img(filename, target_size=(imgs_model_width, imgs_model_height))\n",
    "        print()\n",
    "        # get the image title\n",
    "        image_title = get_product_name(style_df, item_i)\n",
    "        plt.title(image_title)\n",
    "        plt.imshow(similar)\n",
    "        plt.show()\n",
    "        print(\"recommended item {}, with similarity score {}\".format(i+1, score))\n",
    "        print()\n",
    "#         print(\"similarity score : \",k_similar_image_scores[i])"
   ]
  },
  {
   "cell_type": "code",
   "execution_count": 191,
   "metadata": {},
   "outputs": [
    {
     "name": "stdout",
     "output_type": "stream",
     "text": [
      "====================== Original Product =================================\n"
     ]
    },
    {
     "data": {
      "image/png": "[encoded data removed]",
      "text/plain": [
       "<Figure size 432x288 with 1 Axes>"
      ]
     },
     "metadata": {
      "needs_background": "light"
     },
     "output_type": "display_data"
    },
    {
     "name": "stdout",
     "output_type": "stream",
     "text": [
      "======================Recommended Item 1=================================\n",
      "\n"
     ]
    },
    {
     "data": {
      "image/png": "[encoded data removed]",
      "text/plain": [
       "<Figure size 432x288 with 1 Axes>"
      ]
     },
     "metadata": {
      "needs_background": "light"
     },
     "output_type": "display_data"
    },
    {
     "name": "stdout",
     "output_type": "stream",
     "text": [
      "recommended item 1, with similarity score 0.8430893421173096\n",
      "\n",
      "======================Recommended Item 2=================================\n",
      "\n"
     ]
    },
    {
     "data": {
      "image/png": "[encoded data removed]",
      "text/plain": [
       "<Figure size 432x288 with 1 Axes>"
      ]
     },
     "metadata": {
      "needs_background": "light"
     },
     "output_type": "display_data"
    },
    {
     "name": "stdout",
     "output_type": "stream",
     "text": [
      "recommended item 2, with similarity score 0.823442816734314\n",
      "\n",
      "======================Recommended Item 3=================================\n",
      "\n"
     ]
    },
    {
     "data": {
      "image/png": "[encoded data removed]",
      "text/plain": [
       "<Figure size 432x288 with 1 Axes>"
      ]
     },
     "metadata": {
      "needs_background": "light"
     },
     "output_type": "display_data"
    },
    {
     "name": "stdout",
     "output_type": "stream",
     "text": [
      "recommended item 3, with similarity score 0.8196035027503967\n",
      "\n"
     ]
    }
   ],
   "source": [
    "img_id = 1243\n",
    "get_k_most_similar_images(cos_sim_df, root_dir, all_image_ids[img_id])"
   ]
  },
  {
   "cell_type": "markdown",
   "metadata": {},
   "source": [
    "## Final Thoughts.\n",
    "- We can improve the accuracy of recommending even more similar images\n",
    "    1. We can specify the type of the product, gender, or even brand\n",
    "- Other approaches\n",
    "    1. So far we leveraged transfer learning and cosine similarity\n",
    "    2. The other option would be to create an autoencoder to extract the features of the image\n",
    "    3. For finding the similarity metrics would be K-means clusetering. Once we have clusters, we can choose an image and return k nearest neighbors. "
   ]
  },
  {
   "cell_type": "code",
   "execution_count": null,
   "metadata": {},
   "outputs": [],
   "source": []
  }
 ],
 "metadata": {
  "kernelspec": {
   "display_name": "Python 3.7.2 64-bit ('ds': virtualenv)",
   "language": "python",
   "name": "python37264bitdsvirtualenv3c999402cd01429ba712fbf57cc46b19"
  },
  "language_info": {
   "codemirror_mode": {
    "name": "ipython",
    "version": 3
   },
   "file_extension": ".py",
   "mimetype": "text/x-python",
   "name": "python",
   "nbconvert_exporter": "python",
   "pygments_lexer": "ipython3",
   "version": "3.7.2"
  }
 },
 "nbformat": 4,
 "nbformat_minor": 2
}
