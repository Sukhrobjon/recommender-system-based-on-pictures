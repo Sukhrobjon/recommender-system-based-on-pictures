{
 "cells": [
  {
   "cell_type": "markdown",
   "metadata": {},
   "source": [
    "# Recommender System Based on Product Image"
   ]
  },
  {
   "cell_type": "markdown",
   "metadata": {},
   "source": [
    "## Description\n",
    "- In this project I developed a method for identifiying the similar products visually. The taks was implementing an algorithm to find k most similar images to given(original) product and display it to user."
   ]
  },
  {
   "cell_type": "markdown",
   "metadata": {},
   "source": [
    "# Data\n",
    "- The main dataset is 2184 color images (150x150x3) with 7 brands and 10 products, and the file with labels style.csv. Photo files are in the .png format and the labels are integers and values. It is downloaded from [kaggle](https://www.kaggle.com/olgabelitskaya/style-color-images). "
   ]
  },
  {
   "cell_type": "markdown",
   "metadata": {},
   "source": [
    "# High Level Overview on the Algorithm\n",
    "---"
   ]
  },
  {
   "cell_type": "markdown",
   "metadata": {},
   "source": [
    "### Feature Extraction\n",
    "- We need to `extract` the images features using CNN model. We dont have to train our model, we can make a use of Transfer Learning. In this project I used VGG16. VGG16 is a (16) convolutional neural network model proposed by K. Simonyan and A. Zisserman from the University of Oxford in the paper “Very Deep Convolutional Networks for Large-Scale Image Recognition”. The model achieves 92.7% top-5 test accuracy in ImageNet, which is a dataset of over 14 million images belonging to 1000 classes. \n",
    "\n",
    "\n",
    "![VGG16](https://images.squarespace-cdn.com/content/v1/5a2de417914e6b4aaeea995b/1525872902098-QW6NRHPM5ZLJIM5PSRF2/ke17ZwdGBToddI8pDm48kOoZH-sodpzcMRRauuCS1UkUqsxRUqqbr1mOJYKfIPR7LoDQ9mXPOjoJoqy81S2I8N_N4V1vUb5AoIIIbLZhVYy7Mythp_T-mtop-vrsUOmeInPi9iDjx9w8K4ZfjXt2duvkIE4SzlVg1IA40TSl2Iz7vx7ZI2AaZCvRLajMU_LSpC969RuPXvt2ZwyzUXQf7Q/VGG16-2.jpg?format=1500w)"
   ]
  },
  {
   "cell_type": "markdown",
   "metadata": {},
   "source": [
    "### Calculate the Similarity Score\n",
    "- Once we have the image features, we can calculate the similarity score among all images. I used `cosine_similarity` score from `sklearn metrics package`. Cosine similariry metrics is widely-used when finding a similarty score between two vectors. Once we calculate the cosine similarity score, we can store it in csv file so we can later sort and use the closer score and images."
   ]
  },
  {
   "cell_type": "markdown",
   "metadata": {},
   "source": [
    "### Return K most similar items to chosen product.\n",
    "- In this step all we do is sort the cosine similarity score dataframe, and return k most similar products which has higher score(closer to original product)."
   ]
  },
  {
   "cell_type": "markdown",
   "metadata": {},
   "source": [
    "#### Step 1 Importing packages and setup the parameters\n",
    "---"
   ]
  },
  {
   "cell_type": "code",
   "execution_count": 37,
   "metadata": {},
   "outputs": [],
   "source": [
    "from keras.models import Model\n",
    "from keras.applications import vgg16\n",
    "from keras.preprocessing.image import load_img\n",
    "from keras.preprocessing.image import img_to_array\n",
    "from keras.applications.imagenet_utils import preprocess_input\n",
    "from sklearn.metrics.pairwise import cosine_similarity\n",
    "\n",
    "import os\n",
    "import numpy as np\n",
    "import pandas as pd\n",
    "from PIL import Image\n",
    "# to visualize the images\n",
    "import matplotlib.pyplot as plt\n"
   ]
  },
  {
   "cell_type": "code",
   "execution_count": 11,
   "metadata": {},
   "outputs": [],
   "source": [
    "root_dir = \"../fashion-product-images-small/images/\"\n",
    "\n",
    "imgs_path = root_dir\n",
    "imgs_model_width, imgs_model_height = 224, 224\n",
    "\n",
    "nb_closest_images = 5 # number of most similar images to retrieve"
   ]
  },
  {
   "cell_type": "code",
   "execution_count": 12,
   "metadata": {},
   "outputs": [
    {
     "name": "stdout",
     "output_type": "stream",
     "text": [
      "Model: \"model_2\"\n",
      "_________________________________________________________________\n",
      "Layer (type)                 Output Shape              Param #   \n",
      "=================================================================\n",
      "input_16 (InputLayer)        (None, 224, 224, 3)       0         \n",
      "_________________________________________________________________\n",
      "block1_conv1 (Conv2D)        (None, 224, 224, 64)      1792      \n",
      "_________________________________________________________________\n",
      "block1_conv2 (Conv2D)        (None, 224, 224, 64)      36928     \n",
      "_________________________________________________________________\n",
      "block1_pool (MaxPooling2D)   (None, 112, 112, 64)      0         \n",
      "_________________________________________________________________\n",
      "block2_conv1 (Conv2D)        (None, 112, 112, 128)     73856     \n",
      "_________________________________________________________________\n",
      "block2_conv2 (Conv2D)        (None, 112, 112, 128)     147584    \n",
      "_________________________________________________________________\n",
      "block2_pool (MaxPooling2D)   (None, 56, 56, 128)       0         \n",
      "_________________________________________________________________\n",
      "block3_conv1 (Conv2D)        (None, 56, 56, 256)       295168    \n",
      "_________________________________________________________________\n",
      "block3_conv2 (Conv2D)        (None, 56, 56, 256)       590080    \n",
      "_________________________________________________________________\n",
      "block3_conv3 (Conv2D)        (None, 56, 56, 256)       590080    \n",
      "_________________________________________________________________\n",
      "block3_pool (MaxPooling2D)   (None, 28, 28, 256)       0         \n",
      "_________________________________________________________________\n",
      "block4_conv1 (Conv2D)        (None, 28, 28, 512)       1180160   \n",
      "_________________________________________________________________\n",
      "block4_conv2 (Conv2D)        (None, 28, 28, 512)       2359808   \n",
      "_________________________________________________________________\n",
      "block4_conv3 (Conv2D)        (None, 28, 28, 512)       2359808   \n",
      "_________________________________________________________________\n",
      "block4_pool (MaxPooling2D)   (None, 14, 14, 512)       0         \n",
      "_________________________________________________________________\n",
      "block5_conv1 (Conv2D)        (None, 14, 14, 512)       2359808   \n",
      "_________________________________________________________________\n",
      "block5_conv2 (Conv2D)        (None, 14, 14, 512)       2359808   \n",
      "_________________________________________________________________\n",
      "block5_conv3 (Conv2D)        (None, 14, 14, 512)       2359808   \n",
      "_________________________________________________________________\n",
      "block5_pool (MaxPooling2D)   (None, 7, 7, 512)         0         \n",
      "_________________________________________________________________\n",
      "flatten (Flatten)            (None, 25088)             0         \n",
      "_________________________________________________________________\n",
      "fc1 (Dense)                  (None, 4096)              102764544 \n",
      "_________________________________________________________________\n",
      "fc2 (Dense)                  (None, 4096)              16781312  \n",
      "=================================================================\n",
      "Total params: 134,260,544\n",
      "Trainable params: 134,260,544\n",
      "Non-trainable params: 0\n",
      "_________________________________________________________________\n"
     ]
    }
   ],
   "source": [
    "vgg_model = vgg16.VGG16(weights='imagenet')\n",
    "\n",
    "# remove the last layers in order to get features instead of predictions\n",
    "feat_extractor = Model(inputs=vgg_model.input, outputs=vgg_model.get_layer(\"fc2\").output)\n",
    "\n",
    "# print the layers of the CNN\n",
    "feat_extractor.summary()"
   ]
  },
  {
   "cell_type": "code",
   "execution_count": 14,
   "metadata": {},
   "outputs": [],
   "source": [
    "def read_img_ids_from_file(filename):\n",
    "    \"\"\"\n",
    "    reads the the image ids from preselected 2000 image ids\n",
    "    \"\"\"\n",
    "    img_ids = []\n",
    "    with open(filename) as file:\n",
    "        for line in file:\n",
    "            line = line.strip().split(\"\\n\")\n",
    "            line = \"\".join(str(char) for char in line)\n",
    "            img_ids.append(line)\n",
    "\n",
    "    return img_ids"
   ]
  },
  {
   "cell_type": "code",
   "execution_count": 15,
   "metadata": {},
   "outputs": [
    {
     "name": "stdout",
     "output_type": "stream",
     "text": [
      "56190.jpg\n",
      "number of images: 2000\n"
     ]
    }
   ],
   "source": [
    "filename = 'smaller_chunk_of_samples.txt'\n",
    "# all_image_ids =  get_all_image_ids(filepath)\n",
    "files = read_img_ids_from_file(filename)\n",
    "\n",
    "print(files[0])\n",
    "print(\"number of images:\",len(files))\n"
   ]
  },
  {
   "cell_type": "code",
   "execution_count": 18,
   "metadata": {},
   "outputs": [
    {
     "data": {
      "image/png": "[encoded data removed]",
      "text/plain": [
       "<Figure size 432x288 with 1 Axes>"
      ]
     },
     "metadata": {
      "needs_background": "light"
     },
     "output_type": "display_data"
    },
    {
     "name": "stdout",
     "output_type": "stream",
     "text": [
      "image loaded successfully!\n"
     ]
    }
   ],
   "source": [
    "# load an image in PIL format\n",
    "original = load_img(root_dir + files[90], target_size=(imgs_model_width, imgs_model_height))\n",
    "plt.imshow(original)\n",
    "plt.show()\n",
    "print(\"image loaded successfully!\")"
   ]
  },
  {
   "cell_type": "code",
   "execution_count": 19,
   "metadata": {},
   "outputs": [
    {
     "name": "stdout",
     "output_type": "stream",
     "text": [
      "image batch size (1, 224, 224, 3)\n"
     ]
    }
   ],
   "source": [
    "# convert the PIL image to a numpy array\n",
    "# in PIL - image is in (width, height, channel)\n",
    "# in Numpy - image is in (height, width, channel)\n",
    "numpy_image = img_to_array(original)\n",
    "\n",
    "# convert the image / images into batch format\n",
    "# expand_dims will add an extra dimension to the data at a particular axis\n",
    "# we want the input matrix to the network to be of the form (batchsize, height, width, channels)\n",
    "# thus we add the extra dimension to the axis 0.\n",
    "image_batch = np.expand_dims(numpy_image, axis=0)\n",
    "print('image batch size', image_batch.shape)\n",
    "\n",
    "# prepare the image for the VGG model\n",
    "processed_image = preprocess_input(image_batch.copy())"
   ]
  },
  {
   "cell_type": "code",
   "execution_count": 20,
   "metadata": {},
   "outputs": [
    {
     "name": "stdout",
     "output_type": "stream",
     "text": [
      "features successfully extracted!\n",
      "number of image features: 4096\n"
     ]
    },
    {
     "data": {
      "text/plain": [
       "array([[0.        , 0.        , 0.26583198, ..., 1.8577418 , 0.        ,\n",
       "        0.        ]], dtype=float32)"
      ]
     },
     "execution_count": 20,
     "metadata": {},
     "output_type": "execute_result"
    }
   ],
   "source": [
    "# get the extracted features\n",
    "img_features = feat_extractor.predict(processed_image)\n",
    "\n",
    "print(\"features successfully extracted!\")\n",
    "print(\"number of image features:\",img_features.size)\n",
    "img_features"
   ]
  },
  {
   "cell_type": "code",
   "execution_count": 21,
   "metadata": {},
   "outputs": [],
   "source": [
    "# load all the images and prepare them for feeding into the CNN\n",
    "\n",
    "importedImages = []\n",
    "\n",
    "for img_id in files:\n",
    "    filename = root_dir + img_id\n",
    "    original = load_img(filename, target_size=(224, 224))\n",
    "    numpy_image = img_to_array(original)\n",
    "    image_batch = np.expand_dims(numpy_image, axis=0)\n",
    "    \n",
    "    importedImages.append(image_batch)\n",
    "    \n",
    "images = np.vstack(importedImages)\n",
    "\n",
    "processed_imgs = preprocess_input(images.copy())\n"
   ]
  },
  {
   "cell_type": "code",
   "execution_count": 22,
   "metadata": {},
   "outputs": [
    {
     "name": "stdout",
     "output_type": "stream",
     "text": [
      "features successfully extracted!\n"
     ]
    },
    {
     "data": {
      "text/plain": [
       "(2000, 4096)"
      ]
     },
     "execution_count": 22,
     "metadata": {},
     "output_type": "execute_result"
    }
   ],
   "source": [
    "# extract the images features\n",
    "\n",
    "imgs_features = feat_extractor.predict(processed_imgs)\n",
    "\n",
    "print(\"features successfully extracted!\")\n",
    "imgs_features.shape"
   ]
  },
  {
   "cell_type": "code",
   "execution_count": 25,
   "metadata": {},
   "outputs": [
    {
     "data": {
      "text/html": [
       "<div>\n",
       "<style scoped>\n",
       "    .dataframe tbody tr th:only-of-type {\n",
       "        vertical-align: middle;\n",
       "    }\n",
       "\n",
       "    .dataframe tbody tr th {\n",
       "        vertical-align: top;\n",
       "    }\n",
       "\n",
       "    .dataframe thead th {\n",
       "        text-align: right;\n",
       "    }\n",
       "</style>\n",
       "<table border=\"1\" class=\"dataframe\">\n",
       "  <thead>\n",
       "    <tr style=\"text-align: right;\">\n",
       "      <th></th>\n",
       "      <th>56190.jpg</th>\n",
       "      <th>41679.jpg</th>\n",
       "      <th>12426.jpg</th>\n",
       "      <th>34760.jpg</th>\n",
       "      <th>44884.jpg</th>\n",
       "      <th>34268.jpg</th>\n",
       "      <th>54871.jpg</th>\n",
       "      <th>15561.jpg</th>\n",
       "      <th>58187.jpg</th>\n",
       "      <th>25372.jpg</th>\n",
       "      <th>...</th>\n",
       "      <th>9817.jpg</th>\n",
       "      <th>9497.jpg</th>\n",
       "      <th>30961.jpg</th>\n",
       "      <th>3771.jpg</th>\n",
       "      <th>25331.jpg</th>\n",
       "      <th>4163.jpg</th>\n",
       "      <th>53634.jpg</th>\n",
       "      <th>53416.jpg</th>\n",
       "      <th>13343.jpg</th>\n",
       "      <th>20404.jpg</th>\n",
       "    </tr>\n",
       "  </thead>\n",
       "  <tbody>\n",
       "    <tr>\n",
       "      <th>56190.jpg</th>\n",
       "      <td>1.000000</td>\n",
       "      <td>0.487855</td>\n",
       "      <td>0.399779</td>\n",
       "      <td>0.494790</td>\n",
       "      <td>0.339070</td>\n",
       "      <td>0.303106</td>\n",
       "      <td>0.379204</td>\n",
       "      <td>0.331134</td>\n",
       "      <td>0.390468</td>\n",
       "      <td>0.337062</td>\n",
       "      <td>...</td>\n",
       "      <td>0.464009</td>\n",
       "      <td>0.450501</td>\n",
       "      <td>0.265393</td>\n",
       "      <td>0.424372</td>\n",
       "      <td>0.348216</td>\n",
       "      <td>0.475977</td>\n",
       "      <td>0.452936</td>\n",
       "      <td>0.303243</td>\n",
       "      <td>0.295324</td>\n",
       "      <td>0.380866</td>\n",
       "    </tr>\n",
       "    <tr>\n",
       "      <th>41679.jpg</th>\n",
       "      <td>0.487855</td>\n",
       "      <td>1.000000</td>\n",
       "      <td>0.535924</td>\n",
       "      <td>0.484291</td>\n",
       "      <td>0.428730</td>\n",
       "      <td>0.417960</td>\n",
       "      <td>0.587390</td>\n",
       "      <td>0.454630</td>\n",
       "      <td>0.420682</td>\n",
       "      <td>0.381395</td>\n",
       "      <td>...</td>\n",
       "      <td>0.692156</td>\n",
       "      <td>0.559081</td>\n",
       "      <td>0.431645</td>\n",
       "      <td>0.485018</td>\n",
       "      <td>0.472666</td>\n",
       "      <td>0.549208</td>\n",
       "      <td>0.695875</td>\n",
       "      <td>0.409096</td>\n",
       "      <td>0.332692</td>\n",
       "      <td>0.372764</td>\n",
       "    </tr>\n",
       "    <tr>\n",
       "      <th>12426.jpg</th>\n",
       "      <td>0.399779</td>\n",
       "      <td>0.535924</td>\n",
       "      <td>1.000000</td>\n",
       "      <td>0.432363</td>\n",
       "      <td>0.401493</td>\n",
       "      <td>0.394722</td>\n",
       "      <td>0.399862</td>\n",
       "      <td>0.410850</td>\n",
       "      <td>0.500922</td>\n",
       "      <td>0.428956</td>\n",
       "      <td>...</td>\n",
       "      <td>0.648107</td>\n",
       "      <td>0.718235</td>\n",
       "      <td>0.426434</td>\n",
       "      <td>0.433379</td>\n",
       "      <td>0.506213</td>\n",
       "      <td>0.705022</td>\n",
       "      <td>0.592878</td>\n",
       "      <td>0.346907</td>\n",
       "      <td>0.503590</td>\n",
       "      <td>0.455055</td>\n",
       "    </tr>\n",
       "    <tr>\n",
       "      <th>34760.jpg</th>\n",
       "      <td>0.494790</td>\n",
       "      <td>0.484291</td>\n",
       "      <td>0.432363</td>\n",
       "      <td>1.000000</td>\n",
       "      <td>0.339028</td>\n",
       "      <td>0.344798</td>\n",
       "      <td>0.428119</td>\n",
       "      <td>0.356010</td>\n",
       "      <td>0.573763</td>\n",
       "      <td>0.305562</td>\n",
       "      <td>...</td>\n",
       "      <td>0.410000</td>\n",
       "      <td>0.413855</td>\n",
       "      <td>0.346246</td>\n",
       "      <td>0.452015</td>\n",
       "      <td>0.350903</td>\n",
       "      <td>0.543523</td>\n",
       "      <td>0.383439</td>\n",
       "      <td>0.304541</td>\n",
       "      <td>0.468311</td>\n",
       "      <td>0.462246</td>\n",
       "    </tr>\n",
       "    <tr>\n",
       "      <th>44884.jpg</th>\n",
       "      <td>0.339070</td>\n",
       "      <td>0.428730</td>\n",
       "      <td>0.401493</td>\n",
       "      <td>0.339028</td>\n",
       "      <td>1.000000</td>\n",
       "      <td>0.571442</td>\n",
       "      <td>0.385211</td>\n",
       "      <td>0.458942</td>\n",
       "      <td>0.310887</td>\n",
       "      <td>0.719263</td>\n",
       "      <td>...</td>\n",
       "      <td>0.441498</td>\n",
       "      <td>0.425244</td>\n",
       "      <td>0.577096</td>\n",
       "      <td>0.669681</td>\n",
       "      <td>0.440045</td>\n",
       "      <td>0.390831</td>\n",
       "      <td>0.368181</td>\n",
       "      <td>0.679339</td>\n",
       "      <td>0.416633</td>\n",
       "      <td>0.265565</td>\n",
       "    </tr>\n",
       "  </tbody>\n",
       "</table>\n",
       "<p>5 rows × 2000 columns</p>\n",
       "</div>"
      ],
      "text/plain": [
       "           56190.jpg  41679.jpg  12426.jpg  34760.jpg  44884.jpg  34268.jpg  \\\n",
       "56190.jpg   1.000000   0.487855   0.399779   0.494790   0.339070   0.303106   \n",
       "41679.jpg   0.487855   1.000000   0.535924   0.484291   0.428730   0.417960   \n",
       "12426.jpg   0.399779   0.535924   1.000000   0.432363   0.401493   0.394722   \n",
       "34760.jpg   0.494790   0.484291   0.432363   1.000000   0.339028   0.344798   \n",
       "44884.jpg   0.339070   0.428730   0.401493   0.339028   1.000000   0.571442   \n",
       "\n",
       "           54871.jpg  15561.jpg  58187.jpg  25372.jpg  ...  9817.jpg  \\\n",
       "56190.jpg   0.379204   0.331134   0.390468   0.337062  ...  0.464009   \n",
       "41679.jpg   0.587390   0.454630   0.420682   0.381395  ...  0.692156   \n",
       "12426.jpg   0.399862   0.410850   0.500922   0.428956  ...  0.648107   \n",
       "34760.jpg   0.428119   0.356010   0.573763   0.305562  ...  0.410000   \n",
       "44884.jpg   0.385211   0.458942   0.310887   0.719263  ...  0.441498   \n",
       "\n",
       "           9497.jpg  30961.jpg  3771.jpg  25331.jpg  4163.jpg  53634.jpg  \\\n",
       "56190.jpg  0.450501   0.265393  0.424372   0.348216  0.475977   0.452936   \n",
       "41679.jpg  0.559081   0.431645  0.485018   0.472666  0.549208   0.695875   \n",
       "12426.jpg  0.718235   0.426434  0.433379   0.506213  0.705022   0.592878   \n",
       "34760.jpg  0.413855   0.346246  0.452015   0.350903  0.543523   0.383439   \n",
       "44884.jpg  0.425244   0.577096  0.669681   0.440045  0.390831   0.368181   \n",
       "\n",
       "           53416.jpg  13343.jpg  20404.jpg  \n",
       "56190.jpg   0.303243   0.295324   0.380866  \n",
       "41679.jpg   0.409096   0.332692   0.372764  \n",
       "12426.jpg   0.346907   0.503590   0.455055  \n",
       "34760.jpg   0.304541   0.468311   0.462246  \n",
       "44884.jpg   0.679339   0.416633   0.265565  \n",
       "\n",
       "[5 rows x 2000 columns]"
      ]
     },
     "execution_count": 25,
     "metadata": {},
     "output_type": "execute_result"
    }
   ],
   "source": [
    "# compute cosine similarities between images\n",
    "\n",
    "# print(len(files))\n",
    "cosSimilarities = cosine_similarity(imgs_features)\n",
    "\n",
    "# store the results into a pandas dataframe\n",
    "\n",
    "cos_similarities_df = pd.DataFrame(cosSimilarities, columns=files, index=files)\n",
    "# cos_similarities_df.to_csv('test_cos_sim_table.csv', sep='\\t', encoding='utf-8')\n",
    "cos_similarities_df.head()"
   ]
  },
  {
   "cell_type": "code",
   "execution_count": 29,
   "metadata": {},
   "outputs": [],
   "source": [
    "# function to retrieve the most similar products for a given one\n",
    "\n",
    "def retrieve_most_similar_products(given_img):\n",
    "    \n",
    "    print(\"-----------------------------------------------------------------------\")\n",
    "    print(\"original product:\")\n",
    "\n",
    "    original = load_img(root_dir+given_img, target_size=(imgs_model_width, imgs_model_height))\n",
    "    plt.imshow(original)\n",
    "    plt.show()\n",
    "\n",
    "    print(\"-----------------------------------------------------------------------\")\n",
    "    print(\"most similar products:\")\n",
    "\n",
    "    closest_imgs = cos_similarities_df[given_img].sort_values(ascending=False)[1:nb_closest_images+1].index\n",
    "    closest_imgs_scores = cos_similarities_df[given_img].sort_values(ascending=False)[1:nb_closest_images+1]\n",
    "\n",
    "    for i in range(0,len(closest_imgs)):\n",
    "        original = load_img(root_dir + closest_imgs[i], target_size=(imgs_model_width, imgs_model_height))\n",
    "        plt.imshow(original)\n",
    "        plt.show()\n",
    "        print(\"similarity score : \",closest_imgs_scores[i])"
   ]
  },
  {
   "cell_type": "code",
   "execution_count": 36,
   "metadata": {},
   "outputs": [
    {
     "name": "stdout",
     "output_type": "stream",
     "text": [
      "-----------------------------------------------------------------------\n",
      "original product:\n"
     ]
    },
    {
     "data": {
      "image/png": "[encoded data removed]",
      "text/plain": [
       "<Figure size 432x288 with 1 Axes>"
      ]
     },
     "metadata": {
      "needs_background": "light"
     },
     "output_type": "display_data"
    },
    {
     "name": "stdout",
     "output_type": "stream",
     "text": [
      "-----------------------------------------------------------------------\n",
      "most similar products:\n"
     ]
    },
    {
     "data": {
      "image/png": "[encoded data removed]",
      "text/plain": [
       "<Figure size 432x288 with 1 Axes>"
      ]
     },
     "metadata": {
      "needs_background": "light"
     },
     "output_type": "display_data"
    },
    {
     "name": "stdout",
     "output_type": "stream",
     "text": [
      "similarity score :  0.81899714\n"
     ]
    },
    {
     "data": {
      "image/png": "[encoded data removed]",
      "text/plain": [
       "<Figure size 432x288 with 1 Axes>"
      ]
     },
     "metadata": {
      "needs_background": "light"
     },
     "output_type": "display_data"
    },
    {
     "name": "stdout",
     "output_type": "stream",
     "text": [
      "similarity score :  0.8071083\n"
     ]
    },
    {
     "data": {
      "image/png": "[encoded data removed]",
      "text/plain": [
       "<Figure size 432x288 with 1 Axes>"
      ]
     },
     "metadata": {
      "needs_background": "light"
     },
     "output_type": "display_data"
    },
    {
     "name": "stdout",
     "output_type": "stream",
     "text": [
      "similarity score :  0.7917312\n"
     ]
    },
    {
     "data": {
      "image/png": "[encoded data removed]",
      "text/plain": [
       "<Figure size 432x288 with 1 Axes>"
      ]
     },
     "metadata": {
      "needs_background": "light"
     },
     "output_type": "display_data"
    },
    {
     "name": "stdout",
     "output_type": "stream",
     "text": [
      "similarity score :  0.7906356\n"
     ]
    },
    {
     "data": {
      "image/png": "[encoded data removed]",
      "text/plain": [
       "<Figure size 432x288 with 1 Axes>"
      ]
     },
     "metadata": {
      "needs_background": "light"
     },
     "output_type": "display_data"
    },
    {
     "name": "stdout",
     "output_type": "stream",
     "text": [
      "similarity score :  0.7869004\n",
      "\n"
     ]
    }
   ],
   "source": [
    "retrieve_most_similar_products(files[150])\n",
    "print()"
   ]
  },
  {
   "cell_type": "code",
   "execution_count": null,
   "metadata": {},
   "outputs": [],
   "source": []
  }
 ],
 "metadata": {
  "kernelspec": {
   "display_name": "Python 3.7.2 64-bit ('ds': virtualenv)",
   "language": "python",
   "name": "python37264bitdsvirtualenv3c999402cd01429ba712fbf57cc46b19"
  },
  "language_info": {
   "codemirror_mode": {
    "name": "ipython",
    "version": 3
   },
   "file_extension": ".py",
   "mimetype": "text/x-python",
   "name": "python",
   "nbconvert_exporter": "python",
   "pygments_lexer": "ipython3",
   "version": "3.7.2"
  }
 },
 "nbformat": 4,
 "nbformat_minor": 2
}
