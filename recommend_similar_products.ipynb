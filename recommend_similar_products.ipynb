{
 "cells": [
  {
   "cell_type": "markdown",
   "metadata": {},
   "source": [
    "# Recommender System Based on Product Image"
   ]
  },
  {
   "cell_type": "markdown",
   "metadata": {},
   "source": [
    "## Description\n",
    "- In this project I developed a method for identifiying the similar products visually. The taks was implementing an algorithm to find k most similar images to given(original) product and display it to user."
   ]
  },
  {
   "cell_type": "markdown",
   "metadata": {},
   "source": [
    "# Data\n",
    "- The main dataset is 2184 color images (150x150x3) with 7 brands and 10 products, and the file with labels style.csv. Photo files are in the .png format and the labels are integers and values. It is downloaded from [kaggle](https://www.kaggle.com/olgabelitskaya/style-color-images). "
   ]
  },
  {
   "cell_type": "markdown",
   "metadata": {},
   "source": [
    "# High Level Overview on the Algorithm\n",
    "---"
   ]
  },
  {
   "cell_type": "markdown",
   "metadata": {},
   "source": [
    "### Feature Extraction\n",
    "- We need to `extract` the images features using CNN model. We dont have to train our model, we can make a use of Transfer Learning. In this project I used VGG16. VGG16 is a (16) convolutional neural network model proposed by K. Simonyan and A. Zisserman from the University of Oxford in the paper “Very Deep Convolutional Networks for Large-Scale Image Recognition”. The model achieves 92.7% top-5 test accuracy in ImageNet, which is a dataset of over 14 million images belonging to 1000 classes. \n",
    "\n",
    "\n",
    "![VGG16](https://images.squarespace-cdn.com/content/v1/5a2de417914e6b4aaeea995b/1525872902098-QW6NRHPM5ZLJIM5PSRF2/ke17ZwdGBToddI8pDm48kOoZH-sodpzcMRRauuCS1UkUqsxRUqqbr1mOJYKfIPR7LoDQ9mXPOjoJoqy81S2I8N_N4V1vUb5AoIIIbLZhVYy7Mythp_T-mtop-vrsUOmeInPi9iDjx9w8K4ZfjXt2duvkIE4SzlVg1IA40TSl2Iz7vx7ZI2AaZCvRLajMU_LSpC969RuPXvt2ZwyzUXQf7Q/VGG16-2.jpg?format=1500w)"
   ]
  },
  {
   "cell_type": "markdown",
   "metadata": {},
   "source": [
    "### Calculate the Similarity Score\n",
    "- Once we have the image features, we can calculate the similarity score among all images. I used `cosine_similarity` score from `sklearn metrics package`. Cosine similariry metrics is widely-used when finding a similarty score between two vectors. Once we calculate the cosine similarity score, we can store it in csv file so we can later sort and use the closer score and images."
   ]
  },
  {
   "cell_type": "markdown",
   "metadata": {},
   "source": [
    "### Return K most similar items to chosen product.\n",
    "- In this step all we do is sort the cosine similarity score dataframe, and return k most similar products which has higher score(closer to original product)."
   ]
  },
  {
   "cell_type": "markdown",
   "metadata": {},
   "source": [
    "#### Step 1 Importing packages and setup the parameters\n",
    "---"
   ]
  },
  {
   "cell_type": "code",
   "execution_count": 37,
   "metadata": {},
   "outputs": [],
   "source": [
    "from keras.models import Model\n",
    "from keras.applications import vgg16\n",
    "from keras.preprocessing.image import load_img\n",
    "from keras.preprocessing.image import img_to_array\n",
    "from keras.applications.imagenet_utils import preprocess_input\n",
    "from sklearn.metrics.pairwise import cosine_similarity\n",
    "\n",
    "import os\n",
    "import numpy as np\n",
    "import pandas as pd\n",
    "from PIL import Image\n",
    "# to visualize the images\n",
    "import matplotlib.pyplot as plt\n"
   ]
  },
  {
   "cell_type": "code",
   "execution_count": 48,
   "metadata": {},
   "outputs": [],
   "source": [
    "root_dir = \"data/images/\"\n",
    "\n",
    "# imgs_path = root_dir\n",
    "imgs_model_width, imgs_model_height = 224, 224\n",
    "\n",
    "k_similar = 5 # number of most similar images to retrieve"
   ]
  },
  {
   "cell_type": "markdown",
   "metadata": {},
   "source": [
    "#### Initilize the model and remove the last year, because we only need the features not the prediction"
   ]
  },
  {
   "cell_type": "code",
   "execution_count": 49,
   "metadata": {},
   "outputs": [
    {
     "name": "stdout",
     "output_type": "stream",
     "text": [
      "Model: \"model_4\"\n",
      "_________________________________________________________________\n",
      "Layer (type)                 Output Shape              Param #   \n",
      "=================================================================\n",
      "input_18 (InputLayer)        (None, 224, 224, 3)       0         \n",
      "_________________________________________________________________\n",
      "block1_conv1 (Conv2D)        (None, 224, 224, 64)      1792      \n",
      "_________________________________________________________________\n",
      "block1_conv2 (Conv2D)        (None, 224, 224, 64)      36928     \n",
      "_________________________________________________________________\n",
      "block1_pool (MaxPooling2D)   (None, 112, 112, 64)      0         \n",
      "_________________________________________________________________\n",
      "block2_conv1 (Conv2D)        (None, 112, 112, 128)     73856     \n",
      "_________________________________________________________________\n",
      "block2_conv2 (Conv2D)        (None, 112, 112, 128)     147584    \n",
      "_________________________________________________________________\n",
      "block2_pool (MaxPooling2D)   (None, 56, 56, 128)       0         \n",
      "_________________________________________________________________\n",
      "block3_conv1 (Conv2D)        (None, 56, 56, 256)       295168    \n",
      "_________________________________________________________________\n",
      "block3_conv2 (Conv2D)        (None, 56, 56, 256)       590080    \n",
      "_________________________________________________________________\n",
      "block3_conv3 (Conv2D)        (None, 56, 56, 256)       590080    \n",
      "_________________________________________________________________\n",
      "block3_pool (MaxPooling2D)   (None, 28, 28, 256)       0         \n",
      "_________________________________________________________________\n",
      "block4_conv1 (Conv2D)        (None, 28, 28, 512)       1180160   \n",
      "_________________________________________________________________\n",
      "block4_conv2 (Conv2D)        (None, 28, 28, 512)       2359808   \n",
      "_________________________________________________________________\n",
      "block4_conv3 (Conv2D)        (None, 28, 28, 512)       2359808   \n",
      "_________________________________________________________________\n",
      "block4_pool (MaxPooling2D)   (None, 14, 14, 512)       0         \n",
      "_________________________________________________________________\n",
      "block5_conv1 (Conv2D)        (None, 14, 14, 512)       2359808   \n",
      "_________________________________________________________________\n",
      "block5_conv2 (Conv2D)        (None, 14, 14, 512)       2359808   \n",
      "_________________________________________________________________\n",
      "block5_conv3 (Conv2D)        (None, 14, 14, 512)       2359808   \n",
      "_________________________________________________________________\n",
      "block5_pool (MaxPooling2D)   (None, 7, 7, 512)         0         \n",
      "_________________________________________________________________\n",
      "flatten (Flatten)            (None, 25088)             0         \n",
      "_________________________________________________________________\n",
      "fc1 (Dense)                  (None, 4096)              102764544 \n",
      "_________________________________________________________________\n",
      "fc2 (Dense)                  (None, 4096)              16781312  \n",
      "=================================================================\n",
      "Total params: 134,260,544\n",
      "Trainable params: 134,260,544\n",
      "Non-trainable params: 0\n",
      "_________________________________________________________________\n"
     ]
    }
   ],
   "source": [
    "vgg_model = vgg16.VGG16(weights='imagenet')\n",
    "\n",
    "# ignore the last layer\n",
    "feature_extractor = Model(inputs=vgg_model.input, outputs=vgg_model.get_layer(\"fc2\").output)\n",
    "\n",
    "# print the layers of the CNN\n",
    "feature_extractor.summary()"
   ]
  },
  {
   "cell_type": "markdown",
   "metadata": {},
   "source": [
    "#### Read all image ids and store them in the list"
   ]
  },
  {
   "cell_type": "code",
   "execution_count": 50,
   "metadata": {},
   "outputs": [],
   "source": [
    "def get_all_image_ids(filepath):\n",
    "    \"\"\"\n",
    "    Get all image file names from dataset.\n",
    "    \n",
    "    Args:\n",
    "        filepath(str): Root file path to images\n",
    "        \n",
    "    Returns:\n",
    "        image_ids(list): list of all image ids\n",
    "    \"\"\"\n",
    "    image_ids = []\n",
    "    # listing all the image names into list they are ids of the image\n",
    "    for img in os.listdir(filepath):\n",
    "        if img.endswith('png'):\n",
    "            image_ids.append(img)\n",
    "    \n",
    "    return image_ids\n"
   ]
  },
  {
   "cell_type": "code",
   "execution_count": 51,
   "metadata": {},
   "outputs": [
    {
     "name": "stdout",
     "output_type": "stream",
     "text": [
      "number of images: 2184\n",
      "6_0_003.png\n"
     ]
    }
   ],
   "source": [
    "all_image_ids = get_all_image_ids(root_dir)\n",
    "print(\"number of images:\",len(all_image_ids))\n",
    "print(all_image_ids[0])"
   ]
  },
  {
   "cell_type": "code",
   "execution_count": 52,
   "metadata": {},
   "outputs": [],
   "source": [
    "#### Now we can visualize the image in our dataset"
   ]
  },
  {
   "cell_type": "code",
   "execution_count": 53,
   "metadata": {},
   "outputs": [],
   "source": [
    "# load an image in PIL format\n",
    "def display_image(filepath, image_id):\n",
    "    \"\"\"Displays the given image id from folder\"\"\"\n",
    "    filename = filepath + image_id\n",
    "    original = load_img(filename, target_size=(imgs_model_width, imgs_model_height))\n",
    "    plt.imshow(original)\n",
    "    plt.show()\n",
    "    # TODO: display item label\n",
    "    print(\"image loaded successfully!\")"
   ]
  },
  {
   "cell_type": "code",
   "execution_count": 54,
   "metadata": {},
   "outputs": [
    {
     "data": {
      "image/png": "[encoded data removed]",
      "text/plain": [
       "<Figure size 432x288 with 1 Axes>"
      ]
     },
     "metadata": {
      "needs_background": "light"
     },
     "output_type": "display_data"
    },
    {
     "name": "stdout",
     "output_type": "stream",
     "text": [
      "image loaded successfully!\n"
     ]
    }
   ],
   "source": [
    "display_image(root_dir, all_image_ids[10])"
   ]
  },
  {
   "cell_type": "markdown",
   "metadata": {},
   "source": [
    "#### Extracting Image Features:\n",
    "1. Preprocessing the image for vgg\n",
    "1. Extract the image feature using vgg"
   ]
  },
  {
   "cell_type": "code",
   "execution_count": 55,
   "metadata": {},
   "outputs": [
    {
     "name": "stdout",
     "output_type": "stream",
     "text": [
      "image batch size (1, 224, 224, 3)\n"
     ]
    }
   ],
   "source": [
    "# convert the PIL image to a numpy array\n",
    "# in PIL - image is in (width, height, channel)\n",
    "# in Numpy - image is in (height, width, channel)\n",
    "numpy_image = img_to_array(original)\n",
    "\n",
    "# convert the image / images into batch format\n",
    "# expand_dims will add an extra dimension to the data at a particular axis\n",
    "# we want the input matrix to the network to be of the form (batchsize, height, width, channels)\n",
    "# thus we add the extra dimension to the axis 0.\n",
    "image_batch = np.expand_dims(numpy_image, axis=0)\n",
    "print('image batch size', image_batch.shape)\n",
    "\n",
    "# prepare the image for the VGG model\n",
    "processed_image = preprocess_input(image_batch.copy())"
   ]
  },
  {
   "cell_type": "code",
   "execution_count": 56,
   "metadata": {},
   "outputs": [
    {
     "name": "stdout",
     "output_type": "stream",
     "text": [
      "features successfully extracted!\n",
      "number of image features: 4096\n"
     ]
    },
    {
     "data": {
      "text/plain": [
       "array([[0.        , 0.        , 0.        , ..., 0.16508457, 0.        ,\n",
       "        0.774067  ]], dtype=float32)"
      ]
     },
     "execution_count": 56,
     "metadata": {},
     "output_type": "execute_result"
    }
   ],
   "source": [
    "# get the extracted features\n",
    "img_features = feature_extractor.predict(processed_image)\n",
    "\n",
    "print(\"features successfully extracted!\")\n",
    "print(\"number of image features:\",img_features.size)\n",
    "img_features"
   ]
  },
  {
   "cell_type": "markdown",
   "metadata": {},
   "source": [
    "#### Now We can extract image feature for all images."
   ]
  },
  {
   "cell_type": "code",
   "execution_count": 60,
   "metadata": {},
   "outputs": [],
   "source": [
    "def process_image_for_feature_extraction(filepath, all_image_ids):\n",
    "    \"\"\"\n",
    "        Takes an image and returns 4D array of features from vgg16 model\n",
    "\n",
    "        Args:\n",
    "            image_path: path to image\n",
    "    \"\"\"\n",
    "\n",
    "    # load all the images and prepare them for feeding into the CNN\n",
    "\n",
    "    imported_images = []\n",
    "\n",
    "    for image_id in all_image_ids:\n",
    "        filename = filepath + image_id\n",
    "        original = load_img(filename, target_size=(imgs_model_width, imgs_model_height))\n",
    "        numpy_image = img_to_array(original)\n",
    "        image_batch = np.expand_dims(numpy_image, axis=0)\n",
    "\n",
    "        imported_images.append(image_batch)\n",
    "\n",
    "    images = np.vstack(imported_images)\n",
    "\n",
    "    processed_imgs = preprocess_input(images.copy())\n",
    "    \n",
    "    return processed_imgs\n"
   ]
  },
  {
   "cell_type": "code",
   "execution_count": 61,
   "metadata": {},
   "outputs": [],
   "source": [
    "# extract the images features\n",
    "processed_imgs = process_image_for_feature_extraction(root_dir, all_image_ids)\n"
   ]
  },
  {
   "cell_type": "code",
   "execution_count": 62,
   "metadata": {},
   "outputs": [
    {
     "name": "stdout",
     "output_type": "stream",
     "text": [
      "features successfully extracted!\n"
     ]
    },
    {
     "data": {
      "text/plain": [
       "(2184, 4096)"
      ]
     },
     "execution_count": 62,
     "metadata": {},
     "output_type": "execute_result"
    }
   ],
   "source": [
    "all_image_features = feature_extractor.predict(processed_imgs)\n",
    "\n",
    "print(\"features successfully extracted!\")\n",
    "all_image_features.shape"
   ]
  },
  {
   "cell_type": "markdown",
   "metadata": {},
   "source": [
    "#### Compute cosine similarities between images"
   ]
  },
  {
   "cell_type": "code",
   "execution_count": 64,
   "metadata": {},
   "outputs": [],
   "source": [
    "def create_cosine_similarity_table(image_features, image_ids):\n",
    "    # print(len(all_image_ids))\n",
    "    cos_sims = cosine_similarity(image_features)\n",
    "\n",
    "    # store the results into a pandas dataframe\n",
    "\n",
    "    cos_sims_df = pd.DataFrame(cos_sims, columns=image_ids, index=image_ids)\n",
    "    # store it in csv file\n",
    "    #\n",
    "#     cos_sims_df.to_csv('cos_sim_table_2154_images.csv', sep='\\t', encoding='utf-8')\n",
    "    \n",
    "    return cos_sims_df\n",
    "    "
   ]
  },
  {
   "cell_type": "code",
   "execution_count": 67,
   "metadata": {
    "scrolled": true
   },
   "outputs": [],
   "source": [
    "cos_sim_df = create_cosine_similarity_table(all_image_features, all_image_ids)"
   ]
  },
  {
   "cell_type": "code",
   "execution_count": 83,
   "metadata": {},
   "outputs": [
    {
     "data": {
      "text/html": [
       "<div>\n",
       "<style scoped>\n",
       "    .dataframe tbody tr th:only-of-type {\n",
       "        vertical-align: middle;\n",
       "    }\n",
       "\n",
       "    .dataframe tbody tr th {\n",
       "        vertical-align: top;\n",
       "    }\n",
       "\n",
       "    .dataframe thead th {\n",
       "        text-align: right;\n",
       "    }\n",
       "</style>\n",
       "<table border=\"1\" class=\"dataframe\">\n",
       "  <thead>\n",
       "    <tr style=\"text-align: right;\">\n",
       "      <th></th>\n",
       "      <th>6_0_003.png</th>\n",
       "      <th>1_6_022.png</th>\n",
       "      <th>6_0_017.png</th>\n",
       "      <th>4_3_008.png</th>\n",
       "      <th>3_5_015.png</th>\n",
       "      <th>4_3_020.png</th>\n",
       "      <th>3_5_001.png</th>\n",
       "      <th>5_0_037.png</th>\n",
       "      <th>6_1_012.png</th>\n",
       "      <th>2_6_002.png</th>\n",
       "      <th>...</th>\n",
       "      <th>3_5_024.png</th>\n",
       "      <th>3_8_013.png</th>\n",
       "      <th>4_3_011.png</th>\n",
       "      <th>3_8_007.png</th>\n",
       "      <th>4_3_005.png</th>\n",
       "      <th>6_0_032.png</th>\n",
       "      <th>1_6_007.png</th>\n",
       "      <th>1_6_013.png</th>\n",
       "      <th>6_0_026.png</th>\n",
       "      <th>4_5_040.png</th>\n",
       "    </tr>\n",
       "  </thead>\n",
       "  <tbody>\n",
       "    <tr>\n",
       "      <th>3_5_024.png</th>\n",
       "      <td>0.240589</td>\n",
       "      <td>0.364141</td>\n",
       "      <td>0.214745</td>\n",
       "      <td>0.219258</td>\n",
       "      <td>0.364642</td>\n",
       "      <td>0.310858</td>\n",
       "      <td>0.393991</td>\n",
       "      <td>0.181397</td>\n",
       "      <td>0.201179</td>\n",
       "      <td>0.127768</td>\n",
       "      <td>...</td>\n",
       "      <td>1.000000</td>\n",
       "      <td>0.208074</td>\n",
       "      <td>0.205182</td>\n",
       "      <td>0.219755</td>\n",
       "      <td>0.143329</td>\n",
       "      <td>0.248050</td>\n",
       "      <td>0.214998</td>\n",
       "      <td>0.427820</td>\n",
       "      <td>0.301304</td>\n",
       "      <td>0.447388</td>\n",
       "    </tr>\n",
       "    <tr>\n",
       "      <th>3_8_013.png</th>\n",
       "      <td>0.494327</td>\n",
       "      <td>0.252816</td>\n",
       "      <td>0.430328</td>\n",
       "      <td>0.243954</td>\n",
       "      <td>0.328726</td>\n",
       "      <td>0.222687</td>\n",
       "      <td>0.355931</td>\n",
       "      <td>0.287082</td>\n",
       "      <td>0.212020</td>\n",
       "      <td>0.258739</td>\n",
       "      <td>...</td>\n",
       "      <td>0.208074</td>\n",
       "      <td>1.000000</td>\n",
       "      <td>0.255549</td>\n",
       "      <td>0.496543</td>\n",
       "      <td>0.221911</td>\n",
       "      <td>0.541525</td>\n",
       "      <td>0.271010</td>\n",
       "      <td>0.300146</td>\n",
       "      <td>0.432965</td>\n",
       "      <td>0.199743</td>\n",
       "    </tr>\n",
       "    <tr>\n",
       "      <th>4_3_011.png</th>\n",
       "      <td>0.187345</td>\n",
       "      <td>0.290965</td>\n",
       "      <td>0.212879</td>\n",
       "      <td>0.253297</td>\n",
       "      <td>0.383658</td>\n",
       "      <td>0.377547</td>\n",
       "      <td>0.284988</td>\n",
       "      <td>0.192636</td>\n",
       "      <td>0.326088</td>\n",
       "      <td>0.222262</td>\n",
       "      <td>...</td>\n",
       "      <td>0.205182</td>\n",
       "      <td>0.255549</td>\n",
       "      <td>1.000000</td>\n",
       "      <td>0.278035</td>\n",
       "      <td>0.230092</td>\n",
       "      <td>0.315116</td>\n",
       "      <td>0.285357</td>\n",
       "      <td>0.238391</td>\n",
       "      <td>0.297766</td>\n",
       "      <td>0.209442</td>\n",
       "    </tr>\n",
       "    <tr>\n",
       "      <th>3_8_007.png</th>\n",
       "      <td>0.471302</td>\n",
       "      <td>0.325775</td>\n",
       "      <td>0.417788</td>\n",
       "      <td>0.261905</td>\n",
       "      <td>0.337313</td>\n",
       "      <td>0.351808</td>\n",
       "      <td>0.423896</td>\n",
       "      <td>0.324839</td>\n",
       "      <td>0.201862</td>\n",
       "      <td>0.212886</td>\n",
       "      <td>...</td>\n",
       "      <td>0.219755</td>\n",
       "      <td>0.496543</td>\n",
       "      <td>0.278035</td>\n",
       "      <td>1.000000</td>\n",
       "      <td>0.190150</td>\n",
       "      <td>0.563893</td>\n",
       "      <td>0.412928</td>\n",
       "      <td>0.275419</td>\n",
       "      <td>0.437807</td>\n",
       "      <td>0.179772</td>\n",
       "    </tr>\n",
       "    <tr>\n",
       "      <th>4_3_005.png</th>\n",
       "      <td>0.154504</td>\n",
       "      <td>0.187361</td>\n",
       "      <td>0.197296</td>\n",
       "      <td>0.735227</td>\n",
       "      <td>0.291866</td>\n",
       "      <td>0.307429</td>\n",
       "      <td>0.252270</td>\n",
       "      <td>0.205137</td>\n",
       "      <td>0.218097</td>\n",
       "      <td>0.182119</td>\n",
       "      <td>...</td>\n",
       "      <td>0.143329</td>\n",
       "      <td>0.221911</td>\n",
       "      <td>0.230092</td>\n",
       "      <td>0.190150</td>\n",
       "      <td>1.000000</td>\n",
       "      <td>0.186734</td>\n",
       "      <td>0.206121</td>\n",
       "      <td>0.216983</td>\n",
       "      <td>0.334996</td>\n",
       "      <td>0.162455</td>\n",
       "    </tr>\n",
       "    <tr>\n",
       "      <th>6_0_032.png</th>\n",
       "      <td>0.498736</td>\n",
       "      <td>0.255963</td>\n",
       "      <td>0.562664</td>\n",
       "      <td>0.200664</td>\n",
       "      <td>0.309710</td>\n",
       "      <td>0.287178</td>\n",
       "      <td>0.345956</td>\n",
       "      <td>0.372011</td>\n",
       "      <td>0.229935</td>\n",
       "      <td>0.201444</td>\n",
       "      <td>...</td>\n",
       "      <td>0.248050</td>\n",
       "      <td>0.541525</td>\n",
       "      <td>0.315116</td>\n",
       "      <td>0.563893</td>\n",
       "      <td>0.186734</td>\n",
       "      <td>1.000000</td>\n",
       "      <td>0.383029</td>\n",
       "      <td>0.309312</td>\n",
       "      <td>0.452171</td>\n",
       "      <td>0.173096</td>\n",
       "    </tr>\n",
       "    <tr>\n",
       "      <th>1_6_007.png</th>\n",
       "      <td>0.266930</td>\n",
       "      <td>0.499326</td>\n",
       "      <td>0.337275</td>\n",
       "      <td>0.277295</td>\n",
       "      <td>0.366534</td>\n",
       "      <td>0.390341</td>\n",
       "      <td>0.404511</td>\n",
       "      <td>0.381613</td>\n",
       "      <td>0.268687</td>\n",
       "      <td>0.259161</td>\n",
       "      <td>...</td>\n",
       "      <td>0.214998</td>\n",
       "      <td>0.271010</td>\n",
       "      <td>0.285357</td>\n",
       "      <td>0.412928</td>\n",
       "      <td>0.206121</td>\n",
       "      <td>0.383029</td>\n",
       "      <td>1.000000</td>\n",
       "      <td>0.388037</td>\n",
       "      <td>0.291497</td>\n",
       "      <td>0.136926</td>\n",
       "    </tr>\n",
       "    <tr>\n",
       "      <th>1_6_013.png</th>\n",
       "      <td>0.261526</td>\n",
       "      <td>0.384587</td>\n",
       "      <td>0.269246</td>\n",
       "      <td>0.277701</td>\n",
       "      <td>0.369775</td>\n",
       "      <td>0.290160</td>\n",
       "      <td>0.395048</td>\n",
       "      <td>0.215555</td>\n",
       "      <td>0.184451</td>\n",
       "      <td>0.138902</td>\n",
       "      <td>...</td>\n",
       "      <td>0.427820</td>\n",
       "      <td>0.300146</td>\n",
       "      <td>0.238391</td>\n",
       "      <td>0.275419</td>\n",
       "      <td>0.216983</td>\n",
       "      <td>0.309312</td>\n",
       "      <td>0.388037</td>\n",
       "      <td>1.000000</td>\n",
       "      <td>0.301673</td>\n",
       "      <td>0.284685</td>\n",
       "    </tr>\n",
       "    <tr>\n",
       "      <th>6_0_026.png</th>\n",
       "      <td>0.423063</td>\n",
       "      <td>0.316344</td>\n",
       "      <td>0.364765</td>\n",
       "      <td>0.380281</td>\n",
       "      <td>0.342702</td>\n",
       "      <td>0.358314</td>\n",
       "      <td>0.363942</td>\n",
       "      <td>0.341537</td>\n",
       "      <td>0.302330</td>\n",
       "      <td>0.190213</td>\n",
       "      <td>...</td>\n",
       "      <td>0.301304</td>\n",
       "      <td>0.432965</td>\n",
       "      <td>0.297766</td>\n",
       "      <td>0.437807</td>\n",
       "      <td>0.334996</td>\n",
       "      <td>0.452171</td>\n",
       "      <td>0.291497</td>\n",
       "      <td>0.301673</td>\n",
       "      <td>1.000000</td>\n",
       "      <td>0.197897</td>\n",
       "    </tr>\n",
       "    <tr>\n",
       "      <th>4_5_040.png</th>\n",
       "      <td>0.157303</td>\n",
       "      <td>0.236377</td>\n",
       "      <td>0.175194</td>\n",
       "      <td>0.169136</td>\n",
       "      <td>0.388611</td>\n",
       "      <td>0.208980</td>\n",
       "      <td>0.413742</td>\n",
       "      <td>0.148838</td>\n",
       "      <td>0.260285</td>\n",
       "      <td>0.134110</td>\n",
       "      <td>...</td>\n",
       "      <td>0.447388</td>\n",
       "      <td>0.199743</td>\n",
       "      <td>0.209442</td>\n",
       "      <td>0.179772</td>\n",
       "      <td>0.162455</td>\n",
       "      <td>0.173096</td>\n",
       "      <td>0.136926</td>\n",
       "      <td>0.284685</td>\n",
       "      <td>0.197897</td>\n",
       "      <td>1.000000</td>\n",
       "    </tr>\n",
       "  </tbody>\n",
       "</table>\n",
       "<p>10 rows × 2184 columns</p>\n",
       "</div>"
      ],
      "text/plain": [
       "             6_0_003.png  1_6_022.png  6_0_017.png  4_3_008.png  3_5_015.png  \\\n",
       "3_5_024.png     0.240589     0.364141     0.214745     0.219258     0.364642   \n",
       "3_8_013.png     0.494327     0.252816     0.430328     0.243954     0.328726   \n",
       "4_3_011.png     0.187345     0.290965     0.212879     0.253297     0.383658   \n",
       "3_8_007.png     0.471302     0.325775     0.417788     0.261905     0.337313   \n",
       "4_3_005.png     0.154504     0.187361     0.197296     0.735227     0.291866   \n",
       "6_0_032.png     0.498736     0.255963     0.562664     0.200664     0.309710   \n",
       "1_6_007.png     0.266930     0.499326     0.337275     0.277295     0.366534   \n",
       "1_6_013.png     0.261526     0.384587     0.269246     0.277701     0.369775   \n",
       "6_0_026.png     0.423063     0.316344     0.364765     0.380281     0.342702   \n",
       "4_5_040.png     0.157303     0.236377     0.175194     0.169136     0.388611   \n",
       "\n",
       "             4_3_020.png  3_5_001.png  5_0_037.png  6_1_012.png  2_6_002.png  \\\n",
       "3_5_024.png     0.310858     0.393991     0.181397     0.201179     0.127768   \n",
       "3_8_013.png     0.222687     0.355931     0.287082     0.212020     0.258739   \n",
       "4_3_011.png     0.377547     0.284988     0.192636     0.326088     0.222262   \n",
       "3_8_007.png     0.351808     0.423896     0.324839     0.201862     0.212886   \n",
       "4_3_005.png     0.307429     0.252270     0.205137     0.218097     0.182119   \n",
       "6_0_032.png     0.287178     0.345956     0.372011     0.229935     0.201444   \n",
       "1_6_007.png     0.390341     0.404511     0.381613     0.268687     0.259161   \n",
       "1_6_013.png     0.290160     0.395048     0.215555     0.184451     0.138902   \n",
       "6_0_026.png     0.358314     0.363942     0.341537     0.302330     0.190213   \n",
       "4_5_040.png     0.208980     0.413742     0.148838     0.260285     0.134110   \n",
       "\n",
       "             ...  3_5_024.png  3_8_013.png  4_3_011.png  3_8_007.png  \\\n",
       "3_5_024.png  ...     1.000000     0.208074     0.205182     0.219755   \n",
       "3_8_013.png  ...     0.208074     1.000000     0.255549     0.496543   \n",
       "4_3_011.png  ...     0.205182     0.255549     1.000000     0.278035   \n",
       "3_8_007.png  ...     0.219755     0.496543     0.278035     1.000000   \n",
       "4_3_005.png  ...     0.143329     0.221911     0.230092     0.190150   \n",
       "6_0_032.png  ...     0.248050     0.541525     0.315116     0.563893   \n",
       "1_6_007.png  ...     0.214998     0.271010     0.285357     0.412928   \n",
       "1_6_013.png  ...     0.427820     0.300146     0.238391     0.275419   \n",
       "6_0_026.png  ...     0.301304     0.432965     0.297766     0.437807   \n",
       "4_5_040.png  ...     0.447388     0.199743     0.209442     0.179772   \n",
       "\n",
       "             4_3_005.png  6_0_032.png  1_6_007.png  1_6_013.png  6_0_026.png  \\\n",
       "3_5_024.png     0.143329     0.248050     0.214998     0.427820     0.301304   \n",
       "3_8_013.png     0.221911     0.541525     0.271010     0.300146     0.432965   \n",
       "4_3_011.png     0.230092     0.315116     0.285357     0.238391     0.297766   \n",
       "3_8_007.png     0.190150     0.563893     0.412928     0.275419     0.437807   \n",
       "4_3_005.png     1.000000     0.186734     0.206121     0.216983     0.334996   \n",
       "6_0_032.png     0.186734     1.000000     0.383029     0.309312     0.452171   \n",
       "1_6_007.png     0.206121     0.383029     1.000000     0.388037     0.291497   \n",
       "1_6_013.png     0.216983     0.309312     0.388037     1.000000     0.301673   \n",
       "6_0_026.png     0.334996     0.452171     0.291497     0.301673     1.000000   \n",
       "4_5_040.png     0.162455     0.173096     0.136926     0.284685     0.197897   \n",
       "\n",
       "             4_5_040.png  \n",
       "3_5_024.png     0.447388  \n",
       "3_8_013.png     0.199743  \n",
       "4_3_011.png     0.209442  \n",
       "3_8_007.png     0.179772  \n",
       "4_3_005.png     0.162455  \n",
       "6_0_032.png     0.173096  \n",
       "1_6_007.png     0.136926  \n",
       "1_6_013.png     0.284685  \n",
       "6_0_026.png     0.197897  \n",
       "4_5_040.png     1.000000  \n",
       "\n",
       "[10 rows x 2184 columns]"
      ]
     },
     "execution_count": 83,
     "metadata": {},
     "output_type": "execute_result"
    }
   ],
   "source": [
    "cos_sim_df.tail(10)"
   ]
  },
  {
   "cell_type": "code",
   "execution_count": 72,
   "metadata": {},
   "outputs": [],
   "source": [
    "# function to retrieve the most similar products for a given one\n",
    "\n",
    "def get_k_most_similar_images(df, filepath, image_id, k_similar=3):\n",
    "    \n",
    "    print(\"-----------------------------------------------------------------------\")\n",
    "    print(\"original product:\")\n",
    "    filename = filepath + image_id\n",
    "    original = load_img(filename, target_size=(imgs_model_width, imgs_model_height))\n",
    "    plt.imshow(original)\n",
    "    plt.show()\n",
    "\n",
    "    print(\"-----------------------------------------------------------------------\")\n",
    "    print(\"most similar products:\")\n",
    "\n",
    "    k_similar_images = df[image_id].sort_values(ascending=False)[1:k_similar+1].index\n",
    "    k_similar_image_scores = df[image_id].sort_values(ascending=False)[1:k_similar+1]\n",
    "\n",
    "    for i in range(0,len(k_similar_images)):\n",
    "        filename = filepath + k_similar_images[i]\n",
    "        original = load_img(filename, target_size=(imgs_model_width, imgs_model_height))\n",
    "        plt.imshow(original)\n",
    "        plt.show()\n",
    "        print(\"similarity score : \",k_similar_image_scores[i])"
   ]
  },
  {
   "cell_type": "code",
   "execution_count": 84,
   "metadata": {},
   "outputs": [
    {
     "name": "stdout",
     "output_type": "stream",
     "text": [
      "-----------------------------------------------------------------------\n",
      "original product:\n"
     ]
    },
    {
     "data": {
      "image/png": "[encoded data removed]",
      "text/plain": [
       "<Figure size 432x288 with 1 Axes>"
      ]
     },
     "metadata": {
      "needs_background": "light"
     },
     "output_type": "display_data"
    },
    {
     "name": "stdout",
     "output_type": "stream",
     "text": [
      "-----------------------------------------------------------------------\n",
      "most similar products:\n"
     ]
    },
    {
     "data": {
      "image/png": "[encoded data removed]",
      "text/plain": [
       "<Figure size 432x288 with 1 Axes>"
      ]
     },
     "metadata": {
      "needs_background": "light"
     },
     "output_type": "display_data"
    },
    {
     "name": "stdout",
     "output_type": "stream",
     "text": [
      "similarity score :  0.8263507\n"
     ]
    },
    {
     "data": {
      "image/png": "[encoded data removed]",
      "text/plain": [
       "<Figure size 432x288 with 1 Axes>"
      ]
     },
     "metadata": {
      "needs_background": "light"
     },
     "output_type": "display_data"
    },
    {
     "name": "stdout",
     "output_type": "stream",
     "text": [
      "similarity score :  0.8238152\n"
     ]
    },
    {
     "data": {
      "image/png": "[encoded data removed]",
      "text/plain": [
       "<Figure size 432x288 with 1 Axes>"
      ]
     },
     "metadata": {
      "needs_background": "light"
     },
     "output_type": "display_data"
    },
    {
     "name": "stdout",
     "output_type": "stream",
     "text": [
      "similarity score :  0.81619304\n"
     ]
    }
   ],
   "source": [
    "img_id = 213\n",
    "get_k_most_similar_images(cos_sim_df, root_dir, all_image_ids[img_id])"
   ]
  },
  {
   "cell_type": "code",
   "execution_count": null,
   "metadata": {},
   "outputs": [],
   "source": []
  }
 ],
 "metadata": {
  "kernelspec": {
   "display_name": "Python 3.7.2 64-bit ('ds': virtualenv)",
   "language": "python",
   "name": "python37264bitdsvirtualenv3c999402cd01429ba712fbf57cc46b19"
  },
  "language_info": {
   "codemirror_mode": {
    "name": "ipython",
    "version": 3
   },
   "file_extension": ".py",
   "mimetype": "text/x-python",
   "name": "python",
   "nbconvert_exporter": "python",
   "pygments_lexer": "ipython3",
   "version": "3.7.2"
  }
 },
 "nbformat": 4,
 "nbformat_minor": 2
}
